{
 "cells": [
  {
   "cell_type": "code",
   "execution_count": 4,
   "metadata": {},
   "outputs": [],
   "source": [
    "import numpy as np\n",
    "import pandas as pd\n",
    "import datetime as dt\n",
    "import matplotlib.pyplot as plt\n",
    "import seaborn as sns"
   ]
  },
  {
   "cell_type": "code",
   "execution_count": 7,
   "metadata": {},
   "outputs": [],
   "source": [
    "# Detailed description in PDF document! \n",
    "\n",
    "train=pd.read_csv('train.csv')"
   ]
  },
  {
   "cell_type": "code",
   "execution_count": 10,
   "metadata": {},
   "outputs": [
    {
     "name": "stdout",
     "output_type": "stream",
     "text": [
      "<class 'pandas.core.frame.DataFrame'>\n",
      "RangeIndex: 841115 entries, 0 to 841114\n",
      "Data columns (total 47 columns):\n",
      " #   Column                             Non-Null Count   Dtype  \n",
      "---  ------                             --------------   -----  \n",
      " 0   srch_id                            841115 non-null  int64  \n",
      " 1   prop_key                           841115 non-null  int64  \n",
      " 2   srch_date_time                     841115 non-null  object \n",
      " 3   srch_visitor_id                    841115 non-null  object \n",
      " 4   srch_visitor_visit_nbr             841115 non-null  int64  \n",
      " 5   srch_visitor_loc_country           841115 non-null  object \n",
      " 6   srch_visitor_loc_region            840992 non-null  object \n",
      " 7   srch_visitor_loc_city              841115 non-null  object \n",
      " 8   srch_visitor_wr_member             396237 non-null  object \n",
      " 9   srch_posa_continent                355867 non-null  object \n",
      " 10  srch_posa_country                  841115 non-null  object \n",
      " 11  srch_hcom_destination_id           841115 non-null  int64  \n",
      " 12  srch_dest_longitude                841115 non-null  float64\n",
      " 13  srch_dest_latitude                 841115 non-null  float64\n",
      " 14  srch_ci                            841115 non-null  object \n",
      " 15  srch_co                            841115 non-null  object \n",
      " 16  srch_ci_day                        841115 non-null  int64  \n",
      " 17  srch_co_day                        841115 non-null  int64  \n",
      " 18  srch_los                           841115 non-null  int64  \n",
      " 19  srch_bw                            841115 non-null  int64  \n",
      " 20  srch_adults_cnt                    841097 non-null  float64\n",
      " 21  srch_children_cnt                  841097 non-null  float64\n",
      " 22  srch_rm_cnt                        841115 non-null  int64  \n",
      " 23  srch_mobile_bool                   841115 non-null  int64  \n",
      " 24  srch_mobile_app                    841115 non-null  int64  \n",
      " 25  srch_device                        841115 non-null  object \n",
      " 26  srch_currency                      707011 non-null  object \n",
      " 27  prop_travelad_bool                 841115 non-null  int64  \n",
      " 28  prop_dotd_bool                     841115 non-null  int64  \n",
      " 29  prop_price_without_discount_local  841064 non-null  float64\n",
      " 30  prop_price_without_discount_usd    841064 non-null  float64\n",
      " 31  prop_price_with_discount_local     841064 non-null  float64\n",
      " 32  prop_price_with_discount_usd       841064 non-null  float64\n",
      " 33  prop_imp_drr                       841115 non-null  int64  \n",
      " 34  prop_booking_bool                  841115 non-null  int64  \n",
      " 35  prop_brand_bool                    841115 non-null  int64  \n",
      " 36  prop_starrating                    841115 non-null  float64\n",
      " 37  prop_super_region                  841115 non-null  object \n",
      " 38  prop_continent                     841115 non-null  object \n",
      " 39  prop_country                       841115 non-null  object \n",
      " 40  prop_market_id                     841115 non-null  int64  \n",
      " 41  prop_submarket_id                  841115 non-null  int64  \n",
      " 42  prop_room_capacity                 841115 non-null  int64  \n",
      " 43  prop_review_score                  841107 non-null  float64\n",
      " 44  prop_review_count                  841107 non-null  float64\n",
      " 45  prop_hostel_bool                   841115 non-null  int64  \n",
      " 46  srch_local_date                    841115 non-null  object \n",
      "dtypes: float64(11), int64(20), object(16)\n",
      "memory usage: 301.6+ MB\n"
     ]
    }
   ],
   "source": [
    "train.info()"
   ]
  },
  {
   "cell_type": "code",
   "execution_count": 11,
   "metadata": {},
   "outputs": [
    {
     "data": {
      "text/html": [
       "<div>\n",
       "<style scoped>\n",
       "    .dataframe tbody tr th:only-of-type {\n",
       "        vertical-align: middle;\n",
       "    }\n",
       "\n",
       "    .dataframe tbody tr th {\n",
       "        vertical-align: top;\n",
       "    }\n",
       "\n",
       "    .dataframe thead th {\n",
       "        text-align: right;\n",
       "    }\n",
       "</style>\n",
       "<table border=\"1\" class=\"dataframe\">\n",
       "  <thead>\n",
       "    <tr style=\"text-align: right;\">\n",
       "      <th></th>\n",
       "      <th>Count</th>\n",
       "      <th>Percent</th>\n",
       "    </tr>\n",
       "  </thead>\n",
       "  <tbody>\n",
       "    <tr>\n",
       "      <th>UNITED STATES OF AMERICA</th>\n",
       "      <td>554304</td>\n",
       "      <td>65.901096</td>\n",
       "    </tr>\n",
       "    <tr>\n",
       "      <th>UNITED KINGDOM</th>\n",
       "      <td>108661</td>\n",
       "      <td>12.918685</td>\n",
       "    </tr>\n",
       "    <tr>\n",
       "      <th>JAPAN</th>\n",
       "      <td>70414</td>\n",
       "      <td>8.371507</td>\n",
       "    </tr>\n",
       "    <tr>\n",
       "      <th>FRANCE</th>\n",
       "      <td>65031</td>\n",
       "      <td>7.731523</td>\n",
       "    </tr>\n",
       "    <tr>\n",
       "      <th>SOUTH KOREA</th>\n",
       "      <td>26789</td>\n",
       "      <td>3.184939</td>\n",
       "    </tr>\n",
       "    <tr>\n",
       "      <th>ITALY</th>\n",
       "      <td>15914</td>\n",
       "      <td>1.892012</td>\n",
       "    </tr>\n",
       "    <tr>\n",
       "      <th>MARTINIQUE</th>\n",
       "      <td>2</td>\n",
       "      <td>0.000238</td>\n",
       "    </tr>\n",
       "  </tbody>\n",
       "</table>\n",
       "</div>"
      ],
      "text/plain": [
       "                           Count    Percent\n",
       "UNITED STATES OF AMERICA  554304  65.901096\n",
       "UNITED KINGDOM            108661  12.918685\n",
       "JAPAN                      70414   8.371507\n",
       "FRANCE                     65031   7.731523\n",
       "SOUTH KOREA                26789   3.184939\n",
       "ITALY                      15914   1.892012\n",
       "MARTINIQUE                     2   0.000238"
      ]
     },
     "execution_count": 11,
     "metadata": {},
     "output_type": "execute_result"
    }
   ],
   "source": [
    "destination=train['prop_country'].value_counts().sort_values(ascending=False)\n",
    "percentage= train['prop_country'].value_counts()/destination.sum()*100\n",
    "destination_distribution=pd.concat([destination,percentage],axis=1, keys=['Count','Percent'])\n",
    "destination_distribution"
   ]
  },
  {
   "cell_type": "code",
   "execution_count": 16,
   "metadata": {},
   "outputs": [
    {
     "data": {
      "image/png": "[encoded data removed]",
      "text/plain": [
       "<Figure size 1440x360 with 1 Axes>"
      ]
     },
     "metadata": {
      "needs_background": "light"
     },
     "output_type": "display_data"
    }
   ],
   "source": [
    "country_counts= train['srch_visitor_loc_country'].value_counts().sort_values(ascending=False)\n",
    "plt.figure(figsize=(20,5))\n",
    "sns.barplot(country_counts.index[:10], country_counts.values[:10], palette=\"Greens_r\")\n",
    "plt.ylabel('Counts')\n",
    "plt.title('Which country most visitor come from')\n",
    "plt.xticks(rotation=90)\n",
    "plt.yscale('log')"
   ]
  },
  {
   "cell_type": "code",
   "execution_count": 29,
   "metadata": {},
   "outputs": [
    {
     "data": {
      "image/png": "[encoded data removed]",
      "text/plain": [
       "<Figure size 720x576 with 1 Axes>"
      ]
     },
     "metadata": {
      "needs_background": "light"
     },
     "output_type": "display_data"
    }
   ],
   "source": [
    "#what are the most countries the customer travel to?\n",
    "fig, ax =plt.subplots(figsize=(10,8))\n",
    "\n",
    "sns.countplot('prop_country',data=train.sort_values(by=['prop_country']),ax=ax)\n",
    "plt.ylabel('Counts')\n",
    "plt.title('Which country most visitor travel to')\n",
    "plt.xticks(rotation=90)\n",
    "plt.yscale('log')"
   ]
  },
  {
   "cell_type": "code",
   "execution_count": 15,
   "metadata": {},
   "outputs": [
    {
     "data": {
      "text/plain": [
       "Text(0.5, 1.0, 'Destination distribution')"
      ]
     },
     "execution_count": 15,
     "metadata": {},
     "output_type": "execute_result"
    },
    {
     "data": {
      "image/png": "[encoded data removed]",
      "text/plain": [
       "<Figure size 1080x360 with 1 Axes>"
      ]
     },
     "metadata": {
      "needs_background": "light"
     },
     "output_type": "display_data"
    }
   ],
   "source": [
    "country_counts = train['prop_country'].value_counts().sort_values(ascending=False)\n",
    "plt.figure(figsize=(15,5))\n",
    "ax=sns.barplot(country_counts.index, country_counts.values)\n",
    "plt.ylabel('Counts')\n",
    "plt.title('Destination distribution')"
   ]
  },
  {
   "cell_type": "code",
   "execution_count": 19,
   "metadata": {},
   "outputs": [
    {
     "data": {
      "text/plain": [
       "<matplotlib.axes._subplots.AxesSubplot at 0x267808a1e10>"
      ]
     },
     "execution_count": 19,
     "metadata": {},
     "output_type": "execute_result"
    },
    {
     "data": {
      "image/png": "[encoded data removed]",
      "text/plain": [
       "<Figure size 720x360 with 1 Axes>"
      ]
     },
     "metadata": {
      "needs_background": "light"
     },
     "output_type": "display_data"
    }
   ],
   "source": [
    "# Count the bookings as per the day\n",
    "fig, ax=plt.subplots()\n",
    "fig.set_size_inches(10,5)\n",
    "sns.countplot('srch_ci_day', data=train[train['prop_booking_bool'] == 1], order=list(range(1,8)),ax=ax)"
   ]
  },
  {
   "cell_type": "code",
   "execution_count": 23,
   "metadata": {},
   "outputs": [
    {
     "data": {
      "text/plain": [
       "<matplotlib.axes._subplots.AxesSubplot at 0x2679688eda0>"
      ]
     },
     "execution_count": 23,
     "metadata": {},
     "output_type": "execute_result"
    },
    {
     "data": {
      "image/png": "[encoded data removed]",
      "text/plain": [
       "<Figure size 720x360 with 1 Axes>"
      ]
     },
     "metadata": {
      "needs_background": "light"
     },
     "output_type": "display_data"
    }
   ],
   "source": [
    "# Count the bookings as per the stay_duration\n",
    "fig, ax = plt.subplots()\n",
    "fig.set_size_inches(10, 5)\n",
    "sns.countplot('srch_los',data=train[train['prop_booking_bool'] == 1],ax=ax)"
   ]
  },
  {
   "cell_type": "code",
   "execution_count": 21,
   "metadata": {},
   "outputs": [],
   "source": [
    "def convert_date_into_days(df):\n",
    "    df['srch_ci'] = pd.to_datetime(df['srch_ci'])\n",
    "    df['srch_co'] = pd.to_datetime(df['srch_co'])\n",
    "    df['srch_local_date'] = pd.to_datetime(df['srch_local_date'])\n",
    "    df['srch_date_time'] = pd.to_datetime(df['srch_date_time'])\n",
    "    \n",
    "    # For hotel check-in\n",
    "    # Month, Year, Day\n",
    "    df['Cin_month'] = df[\"srch_ci\"].apply(lambda x: x.month)\n",
    "    df['Cin_year'] = df[\"srch_ci\"].apply(lambda x: x.year)"
   ]
  },
  {
   "cell_type": "code",
   "execution_count": 24,
   "metadata": {},
   "outputs": [],
   "source": [
    "convert_date_into_days(train)"
   ]
  },
  {
   "cell_type": "code",
   "execution_count": 26,
   "metadata": {},
   "outputs": [
    {
     "data": {
      "image/png": "[encoded data removed]",
      "text/plain": [
       "<Figure size 1080x1080 with 3 Axes>"
      ]
     },
     "metadata": {
      "needs_background": "light"
     },
     "output_type": "display_data"
    }
   ],
   "source": [
    "fig, (axis1, axis2,axis3)=plt.subplots(3,1,figsize=(15,15))\n",
    "\n",
    "data_2014=train.loc[(train['Cin_year']==2014)]\n",
    "data_2015=train.loc[(train['Cin_year']==2015)]\n",
    "\n",
    "sns.countplot('Cin_month',data=train[train['prop_booking_bool'] == 1],ax=axis1).set(title='Total month count distribtuion')\n",
    "sns.countplot('Cin_month',data=data_2014[data_2014['prop_booking_bool'] == 1],ax=axis2).set(title='Year_2014-month')\n",
    "sns.countplot('Cin_month',data=data_2015[data_2015['prop_booking_bool'] == 1],ax=axis3).set(title='Year_2015-month')\n",
    "fig.savefig('month_count_distribution')"
   ]
  },
  {
   "cell_type": "code",
   "execution_count": 30,
   "metadata": {},
   "outputs": [
    {
     "data": {
      "image/png": "[encoded data removed]",
      "text/plain": [
       "<Figure size 432x288 with 1 Axes>"
      ]
     },
     "metadata": {
      "needs_background": "light"
     },
     "output_type": "display_data"
    }
   ],
   "source": [
    "review_percent=[]\n",
    "train_book=train.loc[train['prop_booking_bool']==1]\n",
    "\n",
    "for i in range(5):\n",
    "    score=train_book.loc[(train['prop_review_score']>=i)&(train['prop_review_score']<i+1)]\n",
    "    percent = score.shape[0]/train_book.shape[0]*100\n",
    "    review_percent.append(percent)\n",
    "\n",
    "fig = plt.figure()\n",
    "ax = fig.add_axes([0,0,1,1])\n",
    "langs = ['0-1', '1-2', '2-3', '3-4', '4-5']\n",
    "ax.bar(langs,review_percent)\n",
    "plt.xlabel('review score')\n",
    "plt.ylabel('booking percentage')\n",
    "plt.title('Booking percentage for each score group')\n",
    "plt.show()"
   ]
  },
  {
   "cell_type": "code",
   "execution_count": 31,
   "metadata": {},
   "outputs": [
    {
     "data": {
      "image/png": "[encoded data removed]",
      "text/plain": [
       "<Figure size 432x288 with 1 Axes>"
      ]
     },
     "metadata": {
      "needs_background": "light"
     },
     "output_type": "display_data"
    }
   ],
   "source": [
    "star_percent=[]\n",
    "train['prop_starrating']=train['prop_starrating'].astype(int)\n",
    "train_book=train.loc[train['prop_booking_bool']==1]\n",
    "\n",
    "for i in range(5):\n",
    "    star=train_book.loc[train['prop_starrating']==i+1]\n",
    "    percent = star.shape[0]/train_book.shape[0]*100\n",
    "    star_percent.append(percent)\n",
    "    \n",
    "fig = plt.figure()\n",
    "ax = fig.add_axes([0,0,1,1])\n",
    "langs = ['star1', 'star2', 'star3', 'star4', 'star5']\n",
    "ax.bar(langs,star_percent)\n",
    "plt.xlabel('starrating')\n",
    "plt.ylabel('booking percentage')\n",
    "plt.title('Booking percentage for each star group')\n",
    "plt.show()"
   ]
  },
  {
   "cell_type": "code",
   "execution_count": 33,
   "metadata": {},
   "outputs": [
    {
     "name": "stdout",
     "output_type": "stream",
     "text": [
      "percentage of people booking the property with daily deal is 16.64\n"
     ]
    }
   ],
   "source": [
    "deal=train.loc[train['prop_dotd_bool']==1]\n",
    "percentage = deal.loc[deal['prop_booking_bool']==1].shape[0]/deal.shape[0]*100\n",
    "print('percentage of people booking the property with daily deal is %.2f'%percentage)"
   ]
  },
  {
   "cell_type": "code",
   "execution_count": 34,
   "metadata": {},
   "outputs": [
    {
     "name": "stdout",
     "output_type": "stream",
     "text": [
      "percentage of people booking the property without daily deal is 2.80\n"
     ]
    }
   ],
   "source": [
    "deal=train.loc[train['prop_dotd_bool']==0]\n",
    "percentage = deal.loc[deal['prop_booking_bool']==1].shape[0]/deal.shape[0]*100\n",
    "print('percentage of people booking the property without daily deal is %.2f'%percentage)"
   ]
  },
  {
   "cell_type": "code",
   "execution_count": 36,
   "metadata": {},
   "outputs": [],
   "source": [
    "columns = ['date_time', 'srch_ci','visitor_id','srch_destination_type_id','srch_destination_id', 'site_name', 'user_location_region', 'user_location_city', \n",
    "                              'user_id', 'srch_co', 'srch_adults_cnt', 'srch_children_cnt', 'srch_rm_cnt']"
   ]
  },
  {
   "cell_type": "code",
   "execution_count": 35,
   "metadata": {},
   "outputs": [
    {
     "data": {
      "text/html": [
       "<div>\n",
       "<style scoped>\n",
       "    .dataframe tbody tr th:only-of-type {\n",
       "        vertical-align: middle;\n",
       "    }\n",
       "\n",
       "    .dataframe tbody tr th {\n",
       "        vertical-align: top;\n",
       "    }\n",
       "\n",
       "    .dataframe thead th {\n",
       "        text-align: right;\n",
       "    }\n",
       "</style>\n",
       "<table border=\"1\" class=\"dataframe\">\n",
       "  <thead>\n",
       "    <tr style=\"text-align: right;\">\n",
       "      <th></th>\n",
       "      <th>Total</th>\n",
       "      <th>Percent</th>\n",
       "    </tr>\n",
       "  </thead>\n",
       "  <tbody>\n",
       "    <tr>\n",
       "      <th>srch_posa_continent</th>\n",
       "      <td>485248</td>\n",
       "      <td>0.576910</td>\n",
       "    </tr>\n",
       "    <tr>\n",
       "      <th>srch_visitor_wr_member</th>\n",
       "      <td>444878</td>\n",
       "      <td>0.528915</td>\n",
       "    </tr>\n",
       "    <tr>\n",
       "      <th>srch_currency</th>\n",
       "      <td>134104</td>\n",
       "      <td>0.159436</td>\n",
       "    </tr>\n",
       "    <tr>\n",
       "      <th>srch_visitor_loc_region</th>\n",
       "      <td>123</td>\n",
       "      <td>0.000146</td>\n",
       "    </tr>\n",
       "    <tr>\n",
       "      <th>prop_price_without_discount_local</th>\n",
       "      <td>51</td>\n",
       "      <td>0.000061</td>\n",
       "    </tr>\n",
       "    <tr>\n",
       "      <th>prop_price_without_discount_usd</th>\n",
       "      <td>51</td>\n",
       "      <td>0.000061</td>\n",
       "    </tr>\n",
       "    <tr>\n",
       "      <th>prop_price_with_discount_local</th>\n",
       "      <td>51</td>\n",
       "      <td>0.000061</td>\n",
       "    </tr>\n",
       "    <tr>\n",
       "      <th>prop_price_with_discount_usd</th>\n",
       "      <td>51</td>\n",
       "      <td>0.000061</td>\n",
       "    </tr>\n",
       "    <tr>\n",
       "      <th>srch_children_cnt</th>\n",
       "      <td>18</td>\n",
       "      <td>0.000021</td>\n",
       "    </tr>\n",
       "    <tr>\n",
       "      <th>srch_adults_cnt</th>\n",
       "      <td>18</td>\n",
       "      <td>0.000021</td>\n",
       "    </tr>\n",
       "  </tbody>\n",
       "</table>\n",
       "</div>"
      ],
      "text/plain": [
       "                                    Total   Percent\n",
       "srch_posa_continent                485248  0.576910\n",
       "srch_visitor_wr_member             444878  0.528915\n",
       "srch_currency                      134104  0.159436\n",
       "srch_visitor_loc_region               123  0.000146\n",
       "prop_price_without_discount_local      51  0.000061\n",
       "prop_price_without_discount_usd        51  0.000061\n",
       "prop_price_with_discount_local         51  0.000061\n",
       "prop_price_with_discount_usd           51  0.000061\n",
       "srch_children_cnt                      18  0.000021\n",
       "srch_adults_cnt                        18  0.000021"
      ]
     },
     "execution_count": 35,
     "metadata": {},
     "output_type": "execute_result"
    }
   ],
   "source": [
    "total=train.isnull().sum().sort_values(ascending=False)\n",
    "percentage= (train.isnull().sum()/train.shape[0]).sort_values(ascending=False)\n",
    "missing=pd.concat([total,percentage],axis=1, keys=['Total','Percent'])\n",
    "missing.head(10)"
   ]
  },
  {
   "cell_type": "code",
   "execution_count": 49,
   "metadata": {},
   "outputs": [
    {
     "data": {
      "text/plain": [
       "array([ 0,  1, -1], dtype=int64)"
      ]
     },
     "execution_count": 49,
     "metadata": {},
     "output_type": "execute_result"
    }
   ],
   "source": [
    "train['prop_booking_bool'].unique()"
   ]
  },
  {
   "cell_type": "code",
   "execution_count": 18,
   "metadata": {},
   "outputs": [
    {
     "data": {
      "text/plain": [
       "(1185901, 47)"
      ]
     },
     "execution_count": 18,
     "metadata": {},
     "output_type": "execute_result"
    }
   ],
   "source": [
    "train.shape"
   ]
  },
  {
   "cell_type": "code",
   "execution_count": 50,
   "metadata": {},
   "outputs": [],
   "source": [
    "train['prop_price_without_discount_usd']=train.groupby('prop_starrating')['prop_price_without_discount_usd'].transform(lambda x: x.fillna(x.median()))\n",
    "train['prop_price_with_discount_usd']=train.groupby('prop_starrating')['prop_price_with_discount_usd'].transform(lambda x: x.fillna(x.median()))"
   ]
  },
  {
   "cell_type": "code",
   "execution_count": 51,
   "metadata": {},
   "outputs": [
    {
     "name": "stderr",
     "output_type": "stream",
     "text": [
      "C:\\ProgramData\\Anaconda3\\lib\\site-packages\\scipy\\stats\\stats.py:1713: FutureWarning: Using a non-tuple sequence for multidimensional indexing is deprecated; use `arr[tuple(seq)]` instead of `arr[seq]`. In the future this will be interpreted as an array index, `arr[np.array(seq)]`, which will result either in an error or a different result.\n",
      "  return np.add.reduce(sorted[indexer] * weights, axis=axis) / sumval\n"
     ]
    },
    {
     "name": "stdout",
     "output_type": "stream",
     "text": [
      "mu = 320 and sigma = 240\n",
      "Skewness: 1.920512\n",
      "Kurtosis: 6.593151\n"
     ]
    },
    {
     "data": {
      "image/png": "[encoded data removed]",
      "text/plain": [
       "<Figure size 432x288 with 1 Axes>"
      ]
     },
     "metadata": {
      "needs_background": "light"
     },
     "output_type": "display_data"
    }
   ],
   "source": [
    "from scipy.stats import norm\n",
    "\n",
    "train=train.loc[train['prop_price_without_discount_usd']<=2000]\n",
    "\n",
    "sns.distplot(train['prop_price_without_discount_usd'])\n",
    "(mu, sigma) = norm.fit(train['prop_price_without_discount_usd'])\n",
    "print('mu = %d and sigma = %d' % (mu, sigma))\n",
    "plt.legend(['Normal dist(mu= %d and sigma=%d )'% (mu, sigma)],loc='best')\n",
    "plt.ylabel('Frequency')\n",
    "plt.title('prop_price_without_discount_usd distribution')\n",
    "\n",
    "print(\"Skewness: %f\" % train['prop_price_without_discount_usd'].skew())\n",
    "print(\"Kurtosis: %f\" % train['prop_price_without_discount_usd'].kurt())"
   ]
  },
  {
   "cell_type": "code",
   "execution_count": 52,
   "metadata": {},
   "outputs": [
    {
     "name": "stderr",
     "output_type": "stream",
     "text": [
      "C:\\ProgramData\\Anaconda3\\lib\\site-packages\\ipykernel_launcher.py:1: SettingWithCopyWarning: \n",
      "A value is trying to be set on a copy of a slice from a DataFrame.\n",
      "Try using .loc[row_indexer,col_indexer] = value instead\n",
      "\n",
      "See the caveats in the documentation: http://pandas.pydata.org/pandas-docs/stable/indexing.html#indexing-view-versus-copy\n",
      "  \"\"\"Entry point for launching an IPython kernel.\n"
     ]
    },
    {
     "name": "stdout",
     "output_type": "stream",
     "text": [
      "mu = 218 and sigma = 160\n",
      "Skewness: 2.146297\n",
      "Kurtosis: 10.723536\n"
     ]
    },
    {
     "data": {
      "image/png": "[encoded data removed]",
      "text/plain": [
       "<Figure size 432x288 with 1 Axes>"
      ]
     },
     "metadata": {
      "needs_background": "light"
     },
     "output_type": "display_data"
    }
   ],
   "source": [
    "train['prop_price_with_discount_usd']=train.groupby('prop_starrating')['prop_price_with_discount_usd'].transform(lambda x: x.fillna(x.median()))\n",
    "\n",
    "#train=train.loc[train['prop_country']=='UNITED STATES OF AMERICA']\n",
    "train=train.loc[train['prop_price_with_discount_usd']<=2000]\n",
    "\n",
    "sns.distplot(train['prop_price_with_discount_usd'], fit=norm)\n",
    "(mu, sigma) = norm.fit(train['prop_price_with_discount_usd'])\n",
    "print('mu = %d and sigma = %d' % (mu, sigma))\n",
    "plt.legend(['Normal dist(mu= %d and sigma=%d )'% (mu, sigma)],\n",
    "            loc='best')\n",
    "plt.ylabel('Frequency')\n",
    "plt.title('prop_price_with_discount_usd distribution')\n",
    "\n",
    "print(\"Skewness: %f\" % train['prop_price_with_discount_usd'].skew())\n",
    "print(\"Kurtosis: %f\" % train['prop_price_with_discount_usd'].kurt())"
   ]
  },
  {
   "cell_type": "code",
   "execution_count": 28,
   "metadata": {},
   "outputs": [
    {
     "data": {
      "text/plain": [
       "<matplotlib.axes._subplots.AxesSubplot at 0x2389ab0f9e8>"
      ]
     },
     "execution_count": 28,
     "metadata": {},
     "output_type": "execute_result"
    },
    {
     "data": {
      "image/png": "[encoded data removed]",
      "text/plain": [
       "<Figure size 720x576 with 2 Axes>"
      ]
     },
     "metadata": {},
     "output_type": "display_data"
    }
   ],
   "source": [
    "fig,(axis1, axis2)=plt.subplots(2,1, figsize=(10,8))\n",
    "sns.set(style='ticks',palette='pastel')\n",
    "axis1.set_ylim([0,500])\n",
    "axis2.set_ylim([0,500])\n",
    "sns.boxplot(x='prop_booking_bool', y='prop_price_with_discount_usd', hue='prop_booking_bool', ax=axis1, data=train)\n",
    "sns.boxplot(x='prop_booking_bool', y='prop_price_without_discount_usd', hue='prop_booking_bool',ax=axis2, data=train)"
   ]
  },
  {
   "cell_type": "code",
   "execution_count": 29,
   "metadata": {},
   "outputs": [
    {
     "data": {
      "text/html": [
       "<div>\n",
       "<style scoped>\n",
       "    .dataframe tbody tr th:only-of-type {\n",
       "        vertical-align: middle;\n",
       "    }\n",
       "\n",
       "    .dataframe tbody tr th {\n",
       "        vertical-align: top;\n",
       "    }\n",
       "\n",
       "    .dataframe thead th {\n",
       "        text-align: right;\n",
       "    }\n",
       "</style>\n",
       "<table border=\"1\" class=\"dataframe\">\n",
       "  <thead>\n",
       "    <tr style=\"text-align: right;\">\n",
       "      <th></th>\n",
       "      <th>count</th>\n",
       "      <th>mean</th>\n",
       "      <th>std</th>\n",
       "      <th>min</th>\n",
       "      <th>25%</th>\n",
       "      <th>50%</th>\n",
       "      <th>75%</th>\n",
       "      <th>max</th>\n",
       "    </tr>\n",
       "    <tr>\n",
       "      <th>prop_booking_bool</th>\n",
       "      <th></th>\n",
       "      <th></th>\n",
       "      <th></th>\n",
       "      <th></th>\n",
       "      <th></th>\n",
       "      <th></th>\n",
       "      <th></th>\n",
       "      <th></th>\n",
       "    </tr>\n",
       "  </thead>\n",
       "  <tbody>\n",
       "    <tr>\n",
       "      <th>0</th>\n",
       "      <td>812453.0</td>\n",
       "      <td>218.782976</td>\n",
       "      <td>160.177577</td>\n",
       "      <td>0.00</td>\n",
       "      <td>99.0</td>\n",
       "      <td>189.00</td>\n",
       "      <td>299.0</td>\n",
       "      <td>1999.95</td>\n",
       "    </tr>\n",
       "    <tr>\n",
       "      <th>1</th>\n",
       "      <td>23777.0</td>\n",
       "      <td>192.261253</td>\n",
       "      <td>156.767801</td>\n",
       "      <td>0.01</td>\n",
       "      <td>93.0</td>\n",
       "      <td>160.73</td>\n",
       "      <td>252.0</td>\n",
       "      <td>1998.00</td>\n",
       "    </tr>\n",
       "  </tbody>\n",
       "</table>\n",
       "</div>"
      ],
      "text/plain": [
       "                      count        mean         std   min   25%     50%  \\\n",
       "prop_booking_bool                                                         \n",
       "0                  812453.0  218.782976  160.177577  0.00  99.0  189.00   \n",
       "1                   23777.0  192.261253  156.767801  0.01  93.0  160.73   \n",
       "\n",
       "                     75%      max  \n",
       "prop_booking_bool                  \n",
       "0                  299.0  1999.95  \n",
       "1                  252.0  1998.00  "
      ]
     },
     "execution_count": 29,
     "metadata": {},
     "output_type": "execute_result"
    }
   ],
   "source": [
    "train.groupby(['prop_booking_bool'])['prop_price_with_discount_usd'].describe()"
   ]
  },
  {
   "cell_type": "code",
   "execution_count": 30,
   "metadata": {},
   "outputs": [
    {
     "data": {
      "text/html": [
       "<div>\n",
       "<style scoped>\n",
       "    .dataframe tbody tr th:only-of-type {\n",
       "        vertical-align: middle;\n",
       "    }\n",
       "\n",
       "    .dataframe tbody tr th {\n",
       "        vertical-align: top;\n",
       "    }\n",
       "\n",
       "    .dataframe thead th {\n",
       "        text-align: right;\n",
       "    }\n",
       "</style>\n",
       "<table border=\"1\" class=\"dataframe\">\n",
       "  <thead>\n",
       "    <tr style=\"text-align: right;\">\n",
       "      <th></th>\n",
       "      <th>count</th>\n",
       "      <th>mean</th>\n",
       "      <th>std</th>\n",
       "      <th>min</th>\n",
       "      <th>25%</th>\n",
       "      <th>50%</th>\n",
       "      <th>75%</th>\n",
       "      <th>max</th>\n",
       "    </tr>\n",
       "    <tr>\n",
       "      <th>prop_booking_bool</th>\n",
       "      <th></th>\n",
       "      <th></th>\n",
       "      <th></th>\n",
       "      <th></th>\n",
       "      <th></th>\n",
       "      <th></th>\n",
       "      <th></th>\n",
       "      <th></th>\n",
       "    </tr>\n",
       "  </thead>\n",
       "  <tbody>\n",
       "    <tr>\n",
       "      <th>0</th>\n",
       "      <td>812453.0</td>\n",
       "      <td>320.757352</td>\n",
       "      <td>240.598000</td>\n",
       "      <td>0.00</td>\n",
       "      <td>143.11</td>\n",
       "      <td>271.00</td>\n",
       "      <td>445.64</td>\n",
       "      <td>2000.0</td>\n",
       "    </tr>\n",
       "    <tr>\n",
       "      <th>1</th>\n",
       "      <td>23777.0</td>\n",
       "      <td>304.274717</td>\n",
       "      <td>243.402962</td>\n",
       "      <td>0.01</td>\n",
       "      <td>138.33</td>\n",
       "      <td>248.46</td>\n",
       "      <td>402.00</td>\n",
       "      <td>1998.0</td>\n",
       "    </tr>\n",
       "  </tbody>\n",
       "</table>\n",
       "</div>"
      ],
      "text/plain": [
       "                      count        mean         std   min     25%     50%  \\\n",
       "prop_booking_bool                                                           \n",
       "0                  812453.0  320.757352  240.598000  0.00  143.11  271.00   \n",
       "1                   23777.0  304.274717  243.402962  0.01  138.33  248.46   \n",
       "\n",
       "                      75%     max  \n",
       "prop_booking_bool                  \n",
       "0                  445.64  2000.0  \n",
       "1                  402.00  1998.0  "
      ]
     },
     "execution_count": 30,
     "metadata": {},
     "output_type": "execute_result"
    }
   ],
   "source": [
    "train.groupby(['prop_booking_bool'])['prop_price_without_discount_usd'].describe()"
   ]
  },
  {
   "cell_type": "code",
   "execution_count": 13,
   "metadata": {},
   "outputs": [
    {
     "data": {
      "text/plain": [
       "(836230, 47)"
      ]
     },
     "execution_count": 13,
     "metadata": {},
     "output_type": "execute_result"
    }
   ],
   "source": [
    "train.shape"
   ]
  },
  {
   "cell_type": "code",
   "execution_count": 53,
   "metadata": {},
   "outputs": [
    {
     "data": {
      "text/plain": [
       "['prop_continent',\n",
       " 'prop_country',\n",
       " 'prop_super_region',\n",
       " 'srch_ci',\n",
       " 'srch_co',\n",
       " 'srch_currency',\n",
       " 'srch_date_time',\n",
       " 'srch_device',\n",
       " 'srch_local_date',\n",
       " 'srch_posa_continent',\n",
       " 'srch_posa_country',\n",
       " 'srch_visitor_id',\n",
       " 'srch_visitor_loc_city',\n",
       " 'srch_visitor_loc_country',\n",
       " 'srch_visitor_loc_region',\n",
       " 'srch_visitor_wr_member']"
      ]
     },
     "execution_count": 53,
     "metadata": {},
     "output_type": "execute_result"
    }
   ],
   "source": [
    "cat_cols = [col for col in train.columns if train[col].dtype == 'O']\n",
    "cat_cols"
   ]
  },
  {
   "cell_type": "code",
   "execution_count": 55,
   "metadata": {},
   "outputs": [
    {
     "name": "stderr",
     "output_type": "stream",
     "text": [
      "C:\\ProgramData\\Anaconda3\\lib\\site-packages\\ipykernel_launcher.py:2: SettingWithCopyWarning: \n",
      "A value is trying to be set on a copy of a slice from a DataFrame.\n",
      "Try using .loc[row_indexer,col_indexer] = value instead\n",
      "\n",
      "See the caveats in the documentation: http://pandas.pydata.org/pandas-docs/stable/indexing.html#indexing-view-versus-copy\n",
      "  \n",
      "C:\\ProgramData\\Anaconda3\\lib\\site-packages\\ipykernel_launcher.py:3: SettingWithCopyWarning: \n",
      "A value is trying to be set on a copy of a slice from a DataFrame.\n",
      "Try using .loc[row_indexer,col_indexer] = value instead\n",
      "\n",
      "See the caveats in the documentation: http://pandas.pydata.org/pandas-docs/stable/indexing.html#indexing-view-versus-copy\n",
      "  This is separate from the ipykernel package so we can avoid doing imports until\n",
      "C:\\ProgramData\\Anaconda3\\lib\\site-packages\\ipykernel_launcher.py:4: SettingWithCopyWarning: \n",
      "A value is trying to be set on a copy of a slice from a DataFrame.\n",
      "Try using .loc[row_indexer,col_indexer] = value instead\n",
      "\n",
      "See the caveats in the documentation: http://pandas.pydata.org/pandas-docs/stable/indexing.html#indexing-view-versus-copy\n",
      "  after removing the cwd from sys.path.\n",
      "C:\\ProgramData\\Anaconda3\\lib\\site-packages\\ipykernel_launcher.py:5: SettingWithCopyWarning: \n",
      "A value is trying to be set on a copy of a slice from a DataFrame.\n",
      "Try using .loc[row_indexer,col_indexer] = value instead\n",
      "\n",
      "See the caveats in the documentation: http://pandas.pydata.org/pandas-docs/stable/indexing.html#indexing-view-versus-copy\n",
      "  \"\"\"\n",
      "C:\\ProgramData\\Anaconda3\\lib\\site-packages\\ipykernel_launcher.py:9: SettingWithCopyWarning: \n",
      "A value is trying to be set on a copy of a slice from a DataFrame.\n",
      "Try using .loc[row_indexer,col_indexer] = value instead\n",
      "\n",
      "See the caveats in the documentation: http://pandas.pydata.org/pandas-docs/stable/indexing.html#indexing-view-versus-copy\n",
      "  if __name__ == '__main__':\n",
      "C:\\ProgramData\\Anaconda3\\lib\\site-packages\\ipykernel_launcher.py:10: SettingWithCopyWarning: \n",
      "A value is trying to be set on a copy of a slice from a DataFrame.\n",
      "Try using .loc[row_indexer,col_indexer] = value instead\n",
      "\n",
      "See the caveats in the documentation: http://pandas.pydata.org/pandas-docs/stable/indexing.html#indexing-view-versus-copy\n",
      "  # Remove the CWD from sys.path while we load stuff.\n"
     ]
    },
    {
     "name": "stdout",
     "output_type": "stream",
     "text": [
      "<class 'pandas.core.frame.DataFrame'>\n",
      "Int64Index: 1185901 entries, 0 to 1192658\n",
      "Data columns (total 18 columns):\n",
      "prop_continent              1185901 non-null object\n",
      "prop_country                1185901 non-null object\n",
      "prop_super_region           1185901 non-null object\n",
      "srch_ci                     1185901 non-null datetime64[ns]\n",
      "srch_co                     1185901 non-null datetime64[ns]\n",
      "srch_currency               999112 non-null object\n",
      "srch_date_time              1185901 non-null datetime64[ns]\n",
      "srch_device                 1185901 non-null object\n",
      "srch_local_date             1185901 non-null datetime64[ns]\n",
      "srch_posa_continent         499230 non-null object\n",
      "srch_posa_country           1185901 non-null object\n",
      "srch_visitor_id             1185901 non-null object\n",
      "srch_visitor_loc_city       1185901 non-null object\n",
      "srch_visitor_loc_country    1185901 non-null object\n",
      "srch_visitor_loc_region     1185679 non-null object\n",
      "srch_visitor_wr_member      561075 non-null object\n",
      "Cin_month                   1185901 non-null int64\n",
      "Cin_year                    1185901 non-null int64\n",
      "dtypes: datetime64[ns](4), int64(2), object(12)\n",
      "memory usage: 171.9+ MB\n"
     ]
    }
   ],
   "source": [
    "cat_df = train[cat_cols]\n",
    "convert_date_into_days(cat_df)\n",
    "cat_df.info()"
   ]
  },
  {
   "cell_type": "code",
   "execution_count": 7,
   "metadata": {},
   "outputs": [
    {
     "data": {
      "text/html": [
       "<div>\n",
       "<style scoped>\n",
       "    .dataframe tbody tr th:only-of-type {\n",
       "        vertical-align: middle;\n",
       "    }\n",
       "\n",
       "    .dataframe tbody tr th {\n",
       "        vertical-align: top;\n",
       "    }\n",
       "\n",
       "    .dataframe thead th {\n",
       "        text-align: right;\n",
       "    }\n",
       "</style>\n",
       "<table border=\"1\" class=\"dataframe\">\n",
       "  <thead>\n",
       "    <tr style=\"text-align: right;\">\n",
       "      <th></th>\n",
       "      <th>srch_date_time</th>\n",
       "      <th>srch_visitor_id</th>\n",
       "      <th>srch_visitor_loc_country</th>\n",
       "      <th>srch_visitor_loc_region</th>\n",
       "      <th>srch_visitor_loc_city</th>\n",
       "      <th>srch_visitor_wr_member</th>\n",
       "      <th>srch_posa_continent</th>\n",
       "      <th>srch_posa_country</th>\n",
       "      <th>srch_ci</th>\n",
       "      <th>srch_co</th>\n",
       "      <th>srch_device</th>\n",
       "      <th>srch_currency</th>\n",
       "      <th>prop_super_region</th>\n",
       "      <th>prop_continent</th>\n",
       "      <th>prop_country</th>\n",
       "      <th>srch_local_date</th>\n",
       "      <th>Cin_month</th>\n",
       "      <th>Cin_year</th>\n",
       "    </tr>\n",
       "  </thead>\n",
       "  <tbody>\n",
       "    <tr>\n",
       "      <th>0</th>\n",
       "      <td>2014-09-13 18:37:32</td>\n",
       "      <td>9373b009-4e10-495a-afae-204dd1fe4b7c</td>\n",
       "      <td>TWN</td>\n",
       "      <td>TPE</td>\n",
       "      <td>TAIPEI</td>\n",
       "      <td>Signed in - Persistent|WR Member|Remembered FC...</td>\n",
       "      <td>ASIA</td>\n",
       "      <td>TAIWAN, REPUBLIC OF CHINA</td>\n",
       "      <td>2015-02-25</td>\n",
       "      <td>2015-02-28</td>\n",
       "      <td>DESKTOP</td>\n",
       "      <td>TWD</td>\n",
       "      <td>APAC</td>\n",
       "      <td>ASIA</td>\n",
       "      <td>JAPAN</td>\n",
       "      <td>2014-09-13</td>\n",
       "      <td>2</td>\n",
       "      <td>2015</td>\n",
       "    </tr>\n",
       "    <tr>\n",
       "      <th>1</th>\n",
       "      <td>2014-09-13 18:37:32</td>\n",
       "      <td>9373b009-4e10-495a-afae-204dd1fe4b7c</td>\n",
       "      <td>TWN</td>\n",
       "      <td>TPE</td>\n",
       "      <td>TAIPEI</td>\n",
       "      <td>Signed in - Persistent|WR Member|Remembered FC...</td>\n",
       "      <td>ASIA</td>\n",
       "      <td>TAIWAN, REPUBLIC OF CHINA</td>\n",
       "      <td>2015-02-25</td>\n",
       "      <td>2015-02-28</td>\n",
       "      <td>DESKTOP</td>\n",
       "      <td>TWD</td>\n",
       "      <td>APAC</td>\n",
       "      <td>ASIA</td>\n",
       "      <td>JAPAN</td>\n",
       "      <td>2014-09-13</td>\n",
       "      <td>2</td>\n",
       "      <td>2015</td>\n",
       "    </tr>\n",
       "    <tr>\n",
       "      <th>2</th>\n",
       "      <td>2014-09-13 18:37:32</td>\n",
       "      <td>9373b009-4e10-495a-afae-204dd1fe4b7c</td>\n",
       "      <td>TWN</td>\n",
       "      <td>TPE</td>\n",
       "      <td>TAIPEI</td>\n",
       "      <td>Signed in - Persistent|WR Member|Remembered FC...</td>\n",
       "      <td>ASIA</td>\n",
       "      <td>TAIWAN, REPUBLIC OF CHINA</td>\n",
       "      <td>2015-02-25</td>\n",
       "      <td>2015-02-28</td>\n",
       "      <td>DESKTOP</td>\n",
       "      <td>TWD</td>\n",
       "      <td>APAC</td>\n",
       "      <td>ASIA</td>\n",
       "      <td>JAPAN</td>\n",
       "      <td>2014-09-13</td>\n",
       "      <td>2</td>\n",
       "      <td>2015</td>\n",
       "    </tr>\n",
       "    <tr>\n",
       "      <th>3</th>\n",
       "      <td>2014-09-13 18:37:32</td>\n",
       "      <td>9373b009-4e10-495a-afae-204dd1fe4b7c</td>\n",
       "      <td>TWN</td>\n",
       "      <td>TPE</td>\n",
       "      <td>TAIPEI</td>\n",
       "      <td>Signed in - Persistent|WR Member|Remembered FC...</td>\n",
       "      <td>ASIA</td>\n",
       "      <td>TAIWAN, REPUBLIC OF CHINA</td>\n",
       "      <td>2015-02-25</td>\n",
       "      <td>2015-02-28</td>\n",
       "      <td>DESKTOP</td>\n",
       "      <td>TWD</td>\n",
       "      <td>APAC</td>\n",
       "      <td>ASIA</td>\n",
       "      <td>JAPAN</td>\n",
       "      <td>2014-09-13</td>\n",
       "      <td>2</td>\n",
       "      <td>2015</td>\n",
       "    </tr>\n",
       "    <tr>\n",
       "      <th>4</th>\n",
       "      <td>2014-09-13 18:37:32</td>\n",
       "      <td>9373b009-4e10-495a-afae-204dd1fe4b7c</td>\n",
       "      <td>TWN</td>\n",
       "      <td>TPE</td>\n",
       "      <td>TAIPEI</td>\n",
       "      <td>Signed in - Persistent|WR Member|Remembered FC...</td>\n",
       "      <td>ASIA</td>\n",
       "      <td>TAIWAN, REPUBLIC OF CHINA</td>\n",
       "      <td>2015-02-25</td>\n",
       "      <td>2015-02-28</td>\n",
       "      <td>DESKTOP</td>\n",
       "      <td>TWD</td>\n",
       "      <td>APAC</td>\n",
       "      <td>ASIA</td>\n",
       "      <td>JAPAN</td>\n",
       "      <td>2014-09-13</td>\n",
       "      <td>2</td>\n",
       "      <td>2015</td>\n",
       "    </tr>\n",
       "  </tbody>\n",
       "</table>\n",
       "</div>"
      ],
      "text/plain": [
       "       srch_date_time                       srch_visitor_id  \\\n",
       "0 2014-09-13 18:37:32  9373b009-4e10-495a-afae-204dd1fe4b7c   \n",
       "1 2014-09-13 18:37:32  9373b009-4e10-495a-afae-204dd1fe4b7c   \n",
       "2 2014-09-13 18:37:32  9373b009-4e10-495a-afae-204dd1fe4b7c   \n",
       "3 2014-09-13 18:37:32  9373b009-4e10-495a-afae-204dd1fe4b7c   \n",
       "4 2014-09-13 18:37:32  9373b009-4e10-495a-afae-204dd1fe4b7c   \n",
       "\n",
       "  srch_visitor_loc_country srch_visitor_loc_region srch_visitor_loc_city  \\\n",
       "0                      TWN                     TPE                TAIPEI   \n",
       "1                      TWN                     TPE                TAIPEI   \n",
       "2                      TWN                     TPE                TAIPEI   \n",
       "3                      TWN                     TPE                TAIPEI   \n",
       "4                      TWN                     TPE                TAIPEI   \n",
       "\n",
       "                              srch_visitor_wr_member srch_posa_continent  \\\n",
       "0  Signed in - Persistent|WR Member|Remembered FC...                ASIA   \n",
       "1  Signed in - Persistent|WR Member|Remembered FC...                ASIA   \n",
       "2  Signed in - Persistent|WR Member|Remembered FC...                ASIA   \n",
       "3  Signed in - Persistent|WR Member|Remembered FC...                ASIA   \n",
       "4  Signed in - Persistent|WR Member|Remembered FC...                ASIA   \n",
       "\n",
       "           srch_posa_country    srch_ci    srch_co srch_device srch_currency  \\\n",
       "0  TAIWAN, REPUBLIC OF CHINA 2015-02-25 2015-02-28     DESKTOP           TWD   \n",
       "1  TAIWAN, REPUBLIC OF CHINA 2015-02-25 2015-02-28     DESKTOP           TWD   \n",
       "2  TAIWAN, REPUBLIC OF CHINA 2015-02-25 2015-02-28     DESKTOP           TWD   \n",
       "3  TAIWAN, REPUBLIC OF CHINA 2015-02-25 2015-02-28     DESKTOP           TWD   \n",
       "4  TAIWAN, REPUBLIC OF CHINA 2015-02-25 2015-02-28     DESKTOP           TWD   \n",
       "\n",
       "  prop_super_region prop_continent prop_country srch_local_date  Cin_month  \\\n",
       "0              APAC           ASIA        JAPAN      2014-09-13          2   \n",
       "1              APAC           ASIA        JAPAN      2014-09-13          2   \n",
       "2              APAC           ASIA        JAPAN      2014-09-13          2   \n",
       "3              APAC           ASIA        JAPAN      2014-09-13          2   \n",
       "4              APAC           ASIA        JAPAN      2014-09-13          2   \n",
       "\n",
       "   Cin_year  \n",
       "0      2015  \n",
       "1      2015  \n",
       "2      2015  \n",
       "3      2015  \n",
       "4      2015  "
      ]
     },
     "execution_count": 7,
     "metadata": {},
     "output_type": "execute_result"
    }
   ],
   "source": [
    "cat_df.head()"
   ]
  },
  {
   "cell_type": "code",
   "execution_count": 56,
   "metadata": {},
   "outputs": [
    {
     "name": "stderr",
     "output_type": "stream",
     "text": [
      "C:\\ProgramData\\Anaconda3\\lib\\site-packages\\pandas\\core\\frame.py:3697: SettingWithCopyWarning: \n",
      "A value is trying to be set on a copy of a slice from a DataFrame\n",
      "\n",
      "See the caveats in the documentation: http://pandas.pydata.org/pandas-docs/stable/indexing.html#indexing-view-versus-copy\n",
      "  errors=errors)\n"
     ]
    }
   ],
   "source": [
    "visitor_id=cat_df['srch_visitor_id']\n",
    "\n",
    "cat_df.drop(['srch_date_time','srch_visitor_id','srch_ci','srch_co','srch_local_date'] , axis = 1, inplace = True)"
   ]
  },
  {
   "cell_type": "code",
   "execution_count": 9,
   "metadata": {},
   "outputs": [
    {
     "data": {
      "text/html": [
       "<div>\n",
       "<style scoped>\n",
       "    .dataframe tbody tr th:only-of-type {\n",
       "        vertical-align: middle;\n",
       "    }\n",
       "\n",
       "    .dataframe tbody tr th {\n",
       "        vertical-align: top;\n",
       "    }\n",
       "\n",
       "    .dataframe thead th {\n",
       "        text-align: right;\n",
       "    }\n",
       "</style>\n",
       "<table border=\"1\" class=\"dataframe\">\n",
       "  <thead>\n",
       "    <tr style=\"text-align: right;\">\n",
       "      <th></th>\n",
       "      <th>srch_visitor_loc_country</th>\n",
       "      <th>srch_visitor_loc_region</th>\n",
       "      <th>srch_visitor_loc_city</th>\n",
       "      <th>srch_visitor_wr_member</th>\n",
       "      <th>srch_posa_continent</th>\n",
       "      <th>srch_posa_country</th>\n",
       "      <th>srch_device</th>\n",
       "      <th>srch_currency</th>\n",
       "      <th>prop_super_region</th>\n",
       "      <th>prop_continent</th>\n",
       "      <th>prop_country</th>\n",
       "      <th>Cin_month</th>\n",
       "      <th>Cin_year</th>\n",
       "    </tr>\n",
       "  </thead>\n",
       "  <tbody>\n",
       "    <tr>\n",
       "      <th>0</th>\n",
       "      <td>TWN</td>\n",
       "      <td>TPE</td>\n",
       "      <td>TAIPEI</td>\n",
       "      <td>Signed in - Persistent|WR Member|Remembered FC...</td>\n",
       "      <td>ASIA</td>\n",
       "      <td>TAIWAN, REPUBLIC OF CHINA</td>\n",
       "      <td>DESKTOP</td>\n",
       "      <td>TWD</td>\n",
       "      <td>APAC</td>\n",
       "      <td>ASIA</td>\n",
       "      <td>JAPAN</td>\n",
       "      <td>2</td>\n",
       "      <td>2015</td>\n",
       "    </tr>\n",
       "    <tr>\n",
       "      <th>1</th>\n",
       "      <td>TWN</td>\n",
       "      <td>TPE</td>\n",
       "      <td>TAIPEI</td>\n",
       "      <td>Signed in - Persistent|WR Member|Remembered FC...</td>\n",
       "      <td>ASIA</td>\n",
       "      <td>TAIWAN, REPUBLIC OF CHINA</td>\n",
       "      <td>DESKTOP</td>\n",
       "      <td>TWD</td>\n",
       "      <td>APAC</td>\n",
       "      <td>ASIA</td>\n",
       "      <td>JAPAN</td>\n",
       "      <td>2</td>\n",
       "      <td>2015</td>\n",
       "    </tr>\n",
       "    <tr>\n",
       "      <th>2</th>\n",
       "      <td>TWN</td>\n",
       "      <td>TPE</td>\n",
       "      <td>TAIPEI</td>\n",
       "      <td>Signed in - Persistent|WR Member|Remembered FC...</td>\n",
       "      <td>ASIA</td>\n",
       "      <td>TAIWAN, REPUBLIC OF CHINA</td>\n",
       "      <td>DESKTOP</td>\n",
       "      <td>TWD</td>\n",
       "      <td>APAC</td>\n",
       "      <td>ASIA</td>\n",
       "      <td>JAPAN</td>\n",
       "      <td>2</td>\n",
       "      <td>2015</td>\n",
       "    </tr>\n",
       "    <tr>\n",
       "      <th>3</th>\n",
       "      <td>TWN</td>\n",
       "      <td>TPE</td>\n",
       "      <td>TAIPEI</td>\n",
       "      <td>Signed in - Persistent|WR Member|Remembered FC...</td>\n",
       "      <td>ASIA</td>\n",
       "      <td>TAIWAN, REPUBLIC OF CHINA</td>\n",
       "      <td>DESKTOP</td>\n",
       "      <td>TWD</td>\n",
       "      <td>APAC</td>\n",
       "      <td>ASIA</td>\n",
       "      <td>JAPAN</td>\n",
       "      <td>2</td>\n",
       "      <td>2015</td>\n",
       "    </tr>\n",
       "    <tr>\n",
       "      <th>4</th>\n",
       "      <td>TWN</td>\n",
       "      <td>TPE</td>\n",
       "      <td>TAIPEI</td>\n",
       "      <td>Signed in - Persistent|WR Member|Remembered FC...</td>\n",
       "      <td>ASIA</td>\n",
       "      <td>TAIWAN, REPUBLIC OF CHINA</td>\n",
       "      <td>DESKTOP</td>\n",
       "      <td>TWD</td>\n",
       "      <td>APAC</td>\n",
       "      <td>ASIA</td>\n",
       "      <td>JAPAN</td>\n",
       "      <td>2</td>\n",
       "      <td>2015</td>\n",
       "    </tr>\n",
       "  </tbody>\n",
       "</table>\n",
       "</div>"
      ],
      "text/plain": [
       "  srch_visitor_loc_country srch_visitor_loc_region srch_visitor_loc_city  \\\n",
       "0                      TWN                     TPE                TAIPEI   \n",
       "1                      TWN                     TPE                TAIPEI   \n",
       "2                      TWN                     TPE                TAIPEI   \n",
       "3                      TWN                     TPE                TAIPEI   \n",
       "4                      TWN                     TPE                TAIPEI   \n",
       "\n",
       "                              srch_visitor_wr_member srch_posa_continent  \\\n",
       "0  Signed in - Persistent|WR Member|Remembered FC...                ASIA   \n",
       "1  Signed in - Persistent|WR Member|Remembered FC...                ASIA   \n",
       "2  Signed in - Persistent|WR Member|Remembered FC...                ASIA   \n",
       "3  Signed in - Persistent|WR Member|Remembered FC...                ASIA   \n",
       "4  Signed in - Persistent|WR Member|Remembered FC...                ASIA   \n",
       "\n",
       "           srch_posa_country srch_device srch_currency prop_super_region  \\\n",
       "0  TAIWAN, REPUBLIC OF CHINA     DESKTOP           TWD              APAC   \n",
       "1  TAIWAN, REPUBLIC OF CHINA     DESKTOP           TWD              APAC   \n",
       "2  TAIWAN, REPUBLIC OF CHINA     DESKTOP           TWD              APAC   \n",
       "3  TAIWAN, REPUBLIC OF CHINA     DESKTOP           TWD              APAC   \n",
       "4  TAIWAN, REPUBLIC OF CHINA     DESKTOP           TWD              APAC   \n",
       "\n",
       "  prop_continent prop_country  Cin_month  Cin_year  \n",
       "0           ASIA        JAPAN          2      2015  \n",
       "1           ASIA        JAPAN          2      2015  \n",
       "2           ASIA        JAPAN          2      2015  \n",
       "3           ASIA        JAPAN          2      2015  \n",
       "4           ASIA        JAPAN          2      2015  "
      ]
     },
     "execution_count": 9,
     "metadata": {},
     "output_type": "execute_result"
    }
   ],
   "source": [
    "cat_df.head()"
   ]
  },
  {
   "cell_type": "code",
   "execution_count": 23,
   "metadata": {},
   "outputs": [
    {
     "data": {
      "text/html": [
       "<div>\n",
       "<style scoped>\n",
       "    .dataframe tbody tr th:only-of-type {\n",
       "        vertical-align: middle;\n",
       "    }\n",
       "\n",
       "    .dataframe tbody tr th {\n",
       "        vertical-align: top;\n",
       "    }\n",
       "\n",
       "    .dataframe thead th {\n",
       "        text-align: right;\n",
       "    }\n",
       "</style>\n",
       "<table border=\"1\" class=\"dataframe\">\n",
       "  <thead>\n",
       "    <tr style=\"text-align: right;\">\n",
       "      <th></th>\n",
       "      <th>Total</th>\n",
       "      <th>Percent</th>\n",
       "    </tr>\n",
       "  </thead>\n",
       "  <tbody>\n",
       "    <tr>\n",
       "      <th>srch_posa_continent</th>\n",
       "      <td>686671</td>\n",
       "      <td>0.579029</td>\n",
       "    </tr>\n",
       "    <tr>\n",
       "      <th>srch_visitor_wr_member</th>\n",
       "      <td>624826</td>\n",
       "      <td>0.526879</td>\n",
       "    </tr>\n",
       "    <tr>\n",
       "      <th>srch_currency</th>\n",
       "      <td>186789</td>\n",
       "      <td>0.157508</td>\n",
       "    </tr>\n",
       "    <tr>\n",
       "      <th>srch_visitor_loc_region</th>\n",
       "      <td>222</td>\n",
       "      <td>0.000187</td>\n",
       "    </tr>\n",
       "    <tr>\n",
       "      <th>Cin_year</th>\n",
       "      <td>0</td>\n",
       "      <td>0.000000</td>\n",
       "    </tr>\n",
       "  </tbody>\n",
       "</table>\n",
       "</div>"
      ],
      "text/plain": [
       "                          Total   Percent\n",
       "srch_posa_continent      686671  0.579029\n",
       "srch_visitor_wr_member   624826  0.526879\n",
       "srch_currency            186789  0.157508\n",
       "srch_visitor_loc_region     222  0.000187\n",
       "Cin_year                      0  0.000000"
      ]
     },
     "execution_count": 23,
     "metadata": {},
     "output_type": "execute_result"
    }
   ],
   "source": [
    "total=cat_df.isnull().sum().sort_values(ascending=False)\n",
    "percentage= (cat_df.isnull().sum()/cat_df.shape[0]).sort_values(ascending=False)\n",
    "missing=pd.concat([total,percentage],axis=1, keys=['Total','Percent'])\n",
    "missing.head()"
   ]
  },
  {
   "cell_type": "code",
   "execution_count": 57,
   "metadata": {},
   "outputs": [],
   "source": [
    "cat_df.drop(['srch_posa_continent','srch_visitor_wr_member','srch_currency','srch_visitor_loc_region',\n",
    "             'srch_visitor_loc_city','prop_super_region','prop_continent','srch_visitor_loc_region'], axis = 1, inplace = True)"
   ]
  },
  {
   "cell_type": "code",
   "execution_count": 58,
   "metadata": {},
   "outputs": [
    {
     "data": {
      "text/html": [
       "<div>\n",
       "<style scoped>\n",
       "    .dataframe tbody tr th:only-of-type {\n",
       "        vertical-align: middle;\n",
       "    }\n",
       "\n",
       "    .dataframe tbody tr th {\n",
       "        vertical-align: top;\n",
       "    }\n",
       "\n",
       "    .dataframe thead th {\n",
       "        text-align: right;\n",
       "    }\n",
       "</style>\n",
       "<table border=\"1\" class=\"dataframe\">\n",
       "  <thead>\n",
       "    <tr style=\"text-align: right;\">\n",
       "      <th></th>\n",
       "      <th>prop_country</th>\n",
       "      <th>srch_device</th>\n",
       "      <th>srch_posa_country</th>\n",
       "      <th>srch_visitor_loc_country</th>\n",
       "      <th>Cin_month</th>\n",
       "      <th>Cin_year</th>\n",
       "    </tr>\n",
       "  </thead>\n",
       "  <tbody>\n",
       "    <tr>\n",
       "      <th>0</th>\n",
       "      <td>JAPAN</td>\n",
       "      <td>DESKTOP</td>\n",
       "      <td>TAIWAN, REPUBLIC OF CHINA</td>\n",
       "      <td>TWN</td>\n",
       "      <td>2</td>\n",
       "      <td>2015</td>\n",
       "    </tr>\n",
       "    <tr>\n",
       "      <th>1</th>\n",
       "      <td>JAPAN</td>\n",
       "      <td>DESKTOP</td>\n",
       "      <td>TAIWAN, REPUBLIC OF CHINA</td>\n",
       "      <td>TWN</td>\n",
       "      <td>2</td>\n",
       "      <td>2015</td>\n",
       "    </tr>\n",
       "    <tr>\n",
       "      <th>2</th>\n",
       "      <td>JAPAN</td>\n",
       "      <td>DESKTOP</td>\n",
       "      <td>TAIWAN, REPUBLIC OF CHINA</td>\n",
       "      <td>TWN</td>\n",
       "      <td>2</td>\n",
       "      <td>2015</td>\n",
       "    </tr>\n",
       "    <tr>\n",
       "      <th>3</th>\n",
       "      <td>JAPAN</td>\n",
       "      <td>DESKTOP</td>\n",
       "      <td>TAIWAN, REPUBLIC OF CHINA</td>\n",
       "      <td>TWN</td>\n",
       "      <td>2</td>\n",
       "      <td>2015</td>\n",
       "    </tr>\n",
       "    <tr>\n",
       "      <th>4</th>\n",
       "      <td>JAPAN</td>\n",
       "      <td>DESKTOP</td>\n",
       "      <td>TAIWAN, REPUBLIC OF CHINA</td>\n",
       "      <td>TWN</td>\n",
       "      <td>2</td>\n",
       "      <td>2015</td>\n",
       "    </tr>\n",
       "  </tbody>\n",
       "</table>\n",
       "</div>"
      ],
      "text/plain": [
       "  prop_country srch_device          srch_posa_country  \\\n",
       "0        JAPAN     DESKTOP  TAIWAN, REPUBLIC OF CHINA   \n",
       "1        JAPAN     DESKTOP  TAIWAN, REPUBLIC OF CHINA   \n",
       "2        JAPAN     DESKTOP  TAIWAN, REPUBLIC OF CHINA   \n",
       "3        JAPAN     DESKTOP  TAIWAN, REPUBLIC OF CHINA   \n",
       "4        JAPAN     DESKTOP  TAIWAN, REPUBLIC OF CHINA   \n",
       "\n",
       "  srch_visitor_loc_country  Cin_month  Cin_year  \n",
       "0                      TWN          2      2015  \n",
       "1                      TWN          2      2015  \n",
       "2                      TWN          2      2015  \n",
       "3                      TWN          2      2015  \n",
       "4                      TWN          2      2015  "
      ]
     },
     "execution_count": 58,
     "metadata": {},
     "output_type": "execute_result"
    }
   ],
   "source": [
    "cat_df.head()"
   ]
  },
  {
   "cell_type": "code",
   "execution_count": 59,
   "metadata": {
    "scrolled": true
   },
   "outputs": [
    {
     "name": "stderr",
     "output_type": "stream",
     "text": [
      "C:\\ProgramData\\Anaconda3\\lib\\site-packages\\ipykernel_launcher.py:1: SettingWithCopyWarning: \n",
      "A value is trying to be set on a copy of a slice from a DataFrame.\n",
      "Try using .loc[row_indexer,col_indexer] = value instead\n",
      "\n",
      "See the caveats in the documentation: http://pandas.pydata.org/pandas-docs/stable/indexing.html#indexing-view-versus-copy\n",
      "  \"\"\"Entry point for launching an IPython kernel.\n"
     ]
    }
   ],
   "source": [
    "cat_df['Cin_year'] = cat_df['Cin_year'].map({2015: 0, 2014: 1})"
   ]
  },
  {
   "cell_type": "code",
   "execution_count": 60,
   "metadata": {},
   "outputs": [
    {
     "name": "stderr",
     "output_type": "stream",
     "text": [
      "C:\\ProgramData\\Anaconda3\\lib\\site-packages\\ipykernel_launcher.py:9: SettingWithCopyWarning: \n",
      "A value is trying to be set on a copy of a slice from a DataFrame.\n",
      "Try using .loc[row_indexer,col_indexer] = value instead\n",
      "\n",
      "See the caveats in the documentation: http://pandas.pydata.org/pandas-docs/stable/indexing.html#indexing-view-versus-copy\n",
      "  if __name__ == '__main__':\n"
     ]
    }
   ],
   "source": [
    "from sklearn.preprocessing import LabelEncoder\n",
    "\n",
    "features = [x for x in cat_df.columns]\n",
    "le = LabelEncoder()\n",
    "\n",
    "for feat in features:\n",
    "    value=list(cat_df[feat].unique())\n",
    "    le.fit(value)\n",
    "    cat_df[feat]=le.fit_transform(cat_df[feat])"
   ]
  },
  {
   "cell_type": "code",
   "execution_count": 17,
   "metadata": {},
   "outputs": [
    {
     "data": {
      "text/html": [
       "<div>\n",
       "<style scoped>\n",
       "    .dataframe tbody tr th:only-of-type {\n",
       "        vertical-align: middle;\n",
       "    }\n",
       "\n",
       "    .dataframe tbody tr th {\n",
       "        vertical-align: top;\n",
       "    }\n",
       "\n",
       "    .dataframe thead th {\n",
       "        text-align: right;\n",
       "    }\n",
       "</style>\n",
       "<table border=\"1\" class=\"dataframe\">\n",
       "  <thead>\n",
       "    <tr style=\"text-align: right;\">\n",
       "      <th></th>\n",
       "      <th>prop_country</th>\n",
       "      <th>srch_device</th>\n",
       "      <th>srch_posa_country</th>\n",
       "      <th>srch_visitor_loc_country</th>\n",
       "      <th>Cin_month</th>\n",
       "      <th>Cin_year</th>\n",
       "    </tr>\n",
       "  </thead>\n",
       "  <tbody>\n",
       "    <tr>\n",
       "      <th>0</th>\n",
       "      <td>2</td>\n",
       "      <td>0</td>\n",
       "      <td>60</td>\n",
       "      <td>149</td>\n",
       "      <td>1</td>\n",
       "      <td>0</td>\n",
       "    </tr>\n",
       "    <tr>\n",
       "      <th>1</th>\n",
       "      <td>2</td>\n",
       "      <td>0</td>\n",
       "      <td>60</td>\n",
       "      <td>149</td>\n",
       "      <td>1</td>\n",
       "      <td>0</td>\n",
       "    </tr>\n",
       "    <tr>\n",
       "      <th>2</th>\n",
       "      <td>2</td>\n",
       "      <td>0</td>\n",
       "      <td>60</td>\n",
       "      <td>149</td>\n",
       "      <td>1</td>\n",
       "      <td>0</td>\n",
       "    </tr>\n",
       "    <tr>\n",
       "      <th>3</th>\n",
       "      <td>2</td>\n",
       "      <td>0</td>\n",
       "      <td>60</td>\n",
       "      <td>149</td>\n",
       "      <td>1</td>\n",
       "      <td>0</td>\n",
       "    </tr>\n",
       "    <tr>\n",
       "      <th>4</th>\n",
       "      <td>2</td>\n",
       "      <td>0</td>\n",
       "      <td>60</td>\n",
       "      <td>149</td>\n",
       "      <td>1</td>\n",
       "      <td>0</td>\n",
       "    </tr>\n",
       "  </tbody>\n",
       "</table>\n",
       "</div>"
      ],
      "text/plain": [
       "   prop_country  srch_device  srch_posa_country  srch_visitor_loc_country  \\\n",
       "0             2            0                 60                       149   \n",
       "1             2            0                 60                       149   \n",
       "2             2            0                 60                       149   \n",
       "3             2            0                 60                       149   \n",
       "4             2            0                 60                       149   \n",
       "\n",
       "   Cin_month  Cin_year  \n",
       "0          1         0  \n",
       "1          1         0  \n",
       "2          1         0  \n",
       "3          1         0  \n",
       "4          1         0  "
      ]
     },
     "execution_count": 17,
     "metadata": {},
     "output_type": "execute_result"
    }
   ],
   "source": [
    "cat_df.head()"
   ]
  },
  {
   "cell_type": "code",
   "execution_count": 42,
   "metadata": {},
   "outputs": [
    {
     "data": {
      "text/plain": [
       "(836230, 47)"
      ]
     },
     "execution_count": 42,
     "metadata": {},
     "output_type": "execute_result"
    }
   ],
   "source": [
    "train.shape"
   ]
  },
  {
   "cell_type": "code",
   "execution_count": 41,
   "metadata": {},
   "outputs": [
    {
     "data": {
      "text/plain": [
       "(836230, 5)"
      ]
     },
     "execution_count": 41,
     "metadata": {},
     "output_type": "execute_result"
    }
   ],
   "source": [
    "cat_df.shape"
   ]
  },
  {
   "cell_type": "code",
   "execution_count": 61,
   "metadata": {},
   "outputs": [
    {
     "name": "stdout",
     "output_type": "stream",
     "text": [
      "<class 'pandas.core.frame.DataFrame'>\n",
      "Int64Index: 1185901 entries, 0 to 1192658\n",
      "Data columns (total 31 columns):\n",
      "prop_booking_bool                    1185901 non-null int64\n",
      "prop_brand_bool                      1185901 non-null int64\n",
      "prop_dotd_bool                       1185901 non-null int64\n",
      "prop_hostel_bool                     1185901 non-null int64\n",
      "prop_imp_drr                         1185901 non-null int64\n",
      "prop_key                             1185901 non-null int64\n",
      "prop_market_id                       1185901 non-null int64\n",
      "prop_price_with_discount_local       1185839 non-null float64\n",
      "prop_price_with_discount_usd         1185901 non-null float64\n",
      "prop_price_without_discount_local    1185839 non-null float64\n",
      "prop_price_without_discount_usd      1185901 non-null float64\n",
      "prop_review_count                    1185888 non-null float64\n",
      "prop_review_score                    1185888 non-null float64\n",
      "prop_room_capacity                   1185901 non-null int64\n",
      "prop_starrating                      1185901 non-null float64\n",
      "prop_submarket_id                    1185901 non-null int64\n",
      "prop_travelad_bool                   1185901 non-null int64\n",
      "srch_adults_cnt                      1185883 non-null float64\n",
      "srch_bw                              1185901 non-null int64\n",
      "srch_children_cnt                    1185883 non-null float64\n",
      "srch_ci_day                          1185901 non-null int64\n",
      "srch_co_day                          1185901 non-null int64\n",
      "srch_dest_latitude                   1185901 non-null float64\n",
      "srch_dest_longitude                  1185901 non-null float64\n",
      "srch_hcom_destination_id             1185901 non-null int64\n",
      "srch_id                              1185901 non-null int64\n",
      "srch_los                             1185901 non-null int64\n",
      "srch_mobile_app                      1185901 non-null int64\n",
      "srch_mobile_bool                     1185901 non-null int64\n",
      "srch_rm_cnt                          1185901 non-null int64\n",
      "srch_visitor_visit_nbr               1185901 non-null int64\n",
      "dtypes: float64(11), int64(20)\n",
      "memory usage: 289.5 MB\n"
     ]
    }
   ],
   "source": [
    "num_df = train.drop(columns = cat_cols, axis = 1)\n",
    "num_df.info()"
   ]
  },
  {
   "cell_type": "code",
   "execution_count": 62,
   "metadata": {},
   "outputs": [],
   "source": [
    "columns=['prop_price_without_discount_local','prop_price_with_discount_local']\n",
    "num_df.drop(columns, axis=1, inplace=True)"
   ]
  },
  {
   "cell_type": "code",
   "execution_count": 81,
   "metadata": {},
   "outputs": [],
   "source": [
    "columns=['srch_dest_longitude','srch_dest_latitude','srch_co_day','prop_imp_drr',\n",
    "         'srch_mobile_bool', 'prop_travelad_bool','srch_mobile_app','prop_submarket_id','prop_hostel_bool']\n",
    "num_df.drop(columns, axis=1, inplace=True)"
   ]
  },
  {
   "cell_type": "code",
   "execution_count": 31,
   "metadata": {},
   "outputs": [
    {
     "data": {
      "text/html": [
       "<div>\n",
       "<style scoped>\n",
       "    .dataframe tbody tr th:only-of-type {\n",
       "        vertical-align: middle;\n",
       "    }\n",
       "\n",
       "    .dataframe tbody tr th {\n",
       "        vertical-align: top;\n",
       "    }\n",
       "\n",
       "    .dataframe thead th {\n",
       "        text-align: right;\n",
       "    }\n",
       "</style>\n",
       "<table border=\"1\" class=\"dataframe\">\n",
       "  <thead>\n",
       "    <tr style=\"text-align: right;\">\n",
       "      <th></th>\n",
       "      <th>Total</th>\n",
       "      <th>Percent</th>\n",
       "    </tr>\n",
       "  </thead>\n",
       "  <tbody>\n",
       "    <tr>\n",
       "      <th>srch_children_cnt</th>\n",
       "      <td>18</td>\n",
       "      <td>0.000015</td>\n",
       "    </tr>\n",
       "    <tr>\n",
       "      <th>srch_adults_cnt</th>\n",
       "      <td>18</td>\n",
       "      <td>0.000015</td>\n",
       "    </tr>\n",
       "    <tr>\n",
       "      <th>prop_review_score</th>\n",
       "      <td>13</td>\n",
       "      <td>0.000011</td>\n",
       "    </tr>\n",
       "    <tr>\n",
       "      <th>prop_review_count</th>\n",
       "      <td>13</td>\n",
       "      <td>0.000011</td>\n",
       "    </tr>\n",
       "    <tr>\n",
       "      <th>srch_visitor_visit_nbr</th>\n",
       "      <td>0</td>\n",
       "      <td>0.000000</td>\n",
       "    </tr>\n",
       "  </tbody>\n",
       "</table>\n",
       "</div>"
      ],
      "text/plain": [
       "                        Total   Percent\n",
       "srch_children_cnt          18  0.000015\n",
       "srch_adults_cnt            18  0.000015\n",
       "prop_review_score          13  0.000011\n",
       "prop_review_count          13  0.000011\n",
       "srch_visitor_visit_nbr      0  0.000000"
      ]
     },
     "execution_count": 31,
     "metadata": {},
     "output_type": "execute_result"
    }
   ],
   "source": [
    "total=num_df.isnull().sum().sort_values(ascending=False)\n",
    "percentage= (num_df.isnull().sum()/num_df.shape[0]).sort_values(ascending=False)\n",
    "missing=pd.concat([total,percentage],axis=1, keys=['Total','Percent'])\n",
    "missing.head()"
   ]
  },
  {
   "cell_type": "code",
   "execution_count": 63,
   "metadata": {},
   "outputs": [],
   "source": [
    "num_df.fillna(0, inplace=True)"
   ]
  },
  {
   "cell_type": "code",
   "execution_count": 64,
   "metadata": {},
   "outputs": [],
   "source": [
    "num_df.drop(['prop_hostel_bool'], axis=1, inplace=True)"
   ]
  },
  {
   "cell_type": "code",
   "execution_count": 64,
   "metadata": {},
   "outputs": [],
   "source": [
    "col = 'prop_review_score'\n",
    "conditions  = [ num_df[col] >= 4, \n",
    "               (num_df[col] < 4) & (num_df[col]>=3), \n",
    "               (num_df[col] < 3) & (num_df[col]>=2),\n",
    "               (num_df[col] < 2) & (num_df[col]>=1),\n",
    "               num_df[col] <=1]\n",
    "choices     = [ 4.5, 3.5, 2.5, 1.5, 0.5]\n",
    "num_df['prop_review_score'] = np.select(conditions, choices, 0)"
   ]
  },
  {
   "cell_type": "code",
   "execution_count": 20,
   "metadata": {},
   "outputs": [],
   "source": [
    "Num = ['prop_review_score','prop_market_id', 'srch_ci_day','srch_hcom_destination_id','prop_brand_bool',\n",
    "      'prop_dotd_bool','prop_starrating','prop_booking_bool','srch_los']\n",
    "df=num_df[Num]"
   ]
  },
  {
   "cell_type": "code",
   "execution_count": 82,
   "metadata": {},
   "outputs": [
    {
     "name": "stdout",
     "output_type": "stream",
     "text": [
      "<class 'pandas.core.frame.DataFrame'>\n",
      "Int64Index: 1185901 entries, 0 to 1192658\n",
      "Data columns (total 20 columns):\n",
      "prop_booking_bool                  1185901 non-null int64\n",
      "prop_brand_bool                    1185901 non-null int64\n",
      "prop_dotd_bool                     1185901 non-null int64\n",
      "prop_key                           1185901 non-null int64\n",
      "prop_market_id                     1185901 non-null int64\n",
      "prop_price_with_discount_usd       1185901 non-null float64\n",
      "prop_price_without_discount_usd    1185901 non-null float64\n",
      "prop_review_count                  1185901 non-null float64\n",
      "prop_review_score                  1185901 non-null float64\n",
      "prop_room_capacity                 1185901 non-null int32\n",
      "prop_starrating                    1185901 non-null float64\n",
      "srch_adults_cnt                    1185901 non-null float64\n",
      "srch_bw                            1185901 non-null int64\n",
      "srch_children_cnt                  1185901 non-null float64\n",
      "srch_ci_day                        1185901 non-null int64\n",
      "srch_hcom_destination_id           1185901 non-null int64\n",
      "srch_id                            1185901 non-null int64\n",
      "srch_los                           1185901 non-null int64\n",
      "srch_rm_cnt                        1185901 non-null int64\n",
      "srch_visitor_visit_nbr             1185901 non-null int64\n",
      "dtypes: float64(7), int32(1), int64(12)\n",
      "memory usage: 185.5 MB\n"
     ]
    }
   ],
   "source": [
    "num_df.info()"
   ]
  },
  {
   "cell_type": "code",
   "execution_count": 65,
   "metadata": {},
   "outputs": [],
   "source": [
    "col = 'prop_room_capacity'\n",
    "conditions  = [ num_df[col] >= 4000, \n",
    "               (num_df[col] < 4000) & (num_df[col]>=3000), \n",
    "               (num_df[col] < 3000) & (num_df[col]>=1000),\n",
    "               (num_df[col] < 1000) & (num_df[col]>=0),\n",
    "               num_df[col] <0]\n",
    "choices     = [4000, 3500, 2000, 500, 0]\n",
    "num_df['prop_room_capacity'] = np.select(conditions, choices, 0)"
   ]
  },
  {
   "cell_type": "code",
   "execution_count": 66,
   "metadata": {},
   "outputs": [],
   "source": [
    "num_df['srch_visitor_visit_nbr']=np.where((num_df['srch_visitor_visit_nbr']>100), 100, num_df['srch_visitor_visit_nbr'])"
   ]
  },
  {
   "cell_type": "code",
   "execution_count": 67,
   "metadata": {},
   "outputs": [
    {
     "name": "stdout",
     "output_type": "stream",
     "text": [
      "<class 'pandas.core.frame.DataFrame'>\n",
      "Int64Index: 1185901 entries, 0 to 1192658\n",
      "Data columns (total 29 columns):\n",
      "prop_booking_bool                  1185901 non-null int64\n",
      "prop_brand_bool                    1185901 non-null int64\n",
      "prop_dotd_bool                     1185901 non-null int64\n",
      "prop_hostel_bool                   1185901 non-null int64\n",
      "prop_imp_drr                       1185901 non-null int64\n",
      "prop_key                           1185901 non-null int64\n",
      "prop_market_id                     1185901 non-null int64\n",
      "prop_price_with_discount_usd       1185901 non-null float64\n",
      "prop_price_without_discount_usd    1185901 non-null float64\n",
      "prop_review_count                  1185901 non-null float64\n",
      "prop_review_score                  1185901 non-null float64\n",
      "prop_room_capacity                 1185901 non-null int32\n",
      "prop_starrating                    1185901 non-null float64\n",
      "prop_submarket_id                  1185901 non-null int64\n",
      "prop_travelad_bool                 1185901 non-null int64\n",
      "srch_adults_cnt                    1185901 non-null float64\n",
      "srch_bw                            1185901 non-null int64\n",
      "srch_children_cnt                  1185901 non-null float64\n",
      "srch_ci_day                        1185901 non-null int64\n",
      "srch_co_day                        1185901 non-null int64\n",
      "srch_dest_latitude                 1185901 non-null float64\n",
      "srch_dest_longitude                1185901 non-null float64\n",
      "srch_hcom_destination_id           1185901 non-null int64\n",
      "srch_id                            1185901 non-null int64\n",
      "srch_los                           1185901 non-null int64\n",
      "srch_mobile_app                    1185901 non-null int64\n",
      "srch_mobile_bool                   1185901 non-null int64\n",
      "srch_rm_cnt                        1185901 non-null int64\n",
      "srch_visitor_visit_nbr             1185901 non-null int64\n",
      "dtypes: float64(9), int32(1), int64(19)\n",
      "memory usage: 266.9 MB\n"
     ]
    }
   ],
   "source": [
    "num_df.info()"
   ]
  },
  {
   "cell_type": "code",
   "execution_count": 68,
   "metadata": {},
   "outputs": [],
   "source": [
    "def normalize(col):\n",
    "    max_value = col.max()\n",
    "    min_value = col.min()\n",
    "    \n",
    "    col = (col - min_value) / (max_value - min_value)\n",
    "    return col"
   ]
  },
  {
   "cell_type": "code",
   "execution_count": 104,
   "metadata": {},
   "outputs": [],
   "source": [
    "num_df['prop_review_count'] = normalize(num_df['prop_review_count'])\n",
    "num_df['prop_room_capacity'] = normalize(num_df['prop_room_capacity'])\n",
    "num_df['prop_price_without_discount_usd'] = normalize(num_df['prop_price_without_discount_usd'])\n",
    "num_df['prop_price_with_discount_usd'] = normalize(num_df['prop_price_with_discount_usd'])\n",
    "num_df['srch_bw'] = normalize(num_df['srch_bw'])\n",
    "num_df['srch_visitor_visit_nbr'] = normalize(num_df['srch_visitor_visit_nbr'])\n",
    "num_df['srch_los'] = normalize(num_df['srch_los'])\n",
    "num_df['srch_ci_day'] = normalize(num_df['srch_ci_day'])"
   ]
  },
  {
   "cell_type": "code",
   "execution_count": 58,
   "metadata": {},
   "outputs": [
    {
     "data": {
      "text/html": [
       "<div>\n",
       "<style scoped>\n",
       "    .dataframe tbody tr th:only-of-type {\n",
       "        vertical-align: middle;\n",
       "    }\n",
       "\n",
       "    .dataframe tbody tr th {\n",
       "        vertical-align: top;\n",
       "    }\n",
       "\n",
       "    .dataframe thead th {\n",
       "        text-align: right;\n",
       "    }\n",
       "</style>\n",
       "<table border=\"1\" class=\"dataframe\">\n",
       "  <thead>\n",
       "    <tr style=\"text-align: right;\">\n",
       "      <th></th>\n",
       "      <th>prop_booking_bool</th>\n",
       "      <th>prop_brand_bool</th>\n",
       "      <th>prop_dotd_bool</th>\n",
       "      <th>prop_market_id</th>\n",
       "      <th>prop_price_with_discount_usd</th>\n",
       "      <th>prop_price_without_discount_usd</th>\n",
       "      <th>prop_review_count</th>\n",
       "      <th>prop_review_score</th>\n",
       "      <th>prop_room_capacity</th>\n",
       "      <th>prop_starrating</th>\n",
       "      <th>srch_adults_cnt</th>\n",
       "      <th>srch_bw</th>\n",
       "      <th>srch_ci_day</th>\n",
       "      <th>srch_hcom_destination_id</th>\n",
       "      <th>srch_los</th>\n",
       "      <th>srch_rm_cnt</th>\n",
       "      <th>srch_visitor_visit_nbr</th>\n",
       "    </tr>\n",
       "  </thead>\n",
       "  <tbody>\n",
       "    <tr>\n",
       "      <th>0</th>\n",
       "      <td>0</td>\n",
       "      <td>1</td>\n",
       "      <td>0</td>\n",
       "      <td>60041</td>\n",
       "      <td>0.055900</td>\n",
       "      <td>0.093360</td>\n",
       "      <td>0.012439</td>\n",
       "      <td>4.5</td>\n",
       "      <td>0.125</td>\n",
       "      <td>3.5</td>\n",
       "      <td>2.0</td>\n",
       "      <td>0.346723</td>\n",
       "      <td>0.5</td>\n",
       "      <td>728660</td>\n",
       "      <td>0.074074</td>\n",
       "      <td>1</td>\n",
       "      <td>0.040404</td>\n",
       "    </tr>\n",
       "    <tr>\n",
       "      <th>1</th>\n",
       "      <td>0</td>\n",
       "      <td>0</td>\n",
       "      <td>0</td>\n",
       "      <td>60041</td>\n",
       "      <td>0.046120</td>\n",
       "      <td>0.076855</td>\n",
       "      <td>0.003117</td>\n",
       "      <td>3.5</td>\n",
       "      <td>0.125</td>\n",
       "      <td>3.0</td>\n",
       "      <td>2.0</td>\n",
       "      <td>0.346723</td>\n",
       "      <td>0.5</td>\n",
       "      <td>728660</td>\n",
       "      <td>0.074074</td>\n",
       "      <td>1</td>\n",
       "      <td>0.040404</td>\n",
       "    </tr>\n",
       "    <tr>\n",
       "      <th>2</th>\n",
       "      <td>0</td>\n",
       "      <td>1</td>\n",
       "      <td>0</td>\n",
       "      <td>60041</td>\n",
       "      <td>0.046990</td>\n",
       "      <td>0.233625</td>\n",
       "      <td>0.036699</td>\n",
       "      <td>4.5</td>\n",
       "      <td>0.125</td>\n",
       "      <td>3.5</td>\n",
       "      <td>2.0</td>\n",
       "      <td>0.346723</td>\n",
       "      <td>0.5</td>\n",
       "      <td>728660</td>\n",
       "      <td>0.074074</td>\n",
       "      <td>1</td>\n",
       "      <td>0.040404</td>\n",
       "    </tr>\n",
       "    <tr>\n",
       "      <th>3</th>\n",
       "      <td>0</td>\n",
       "      <td>1</td>\n",
       "      <td>0</td>\n",
       "      <td>60041</td>\n",
       "      <td>0.086650</td>\n",
       "      <td>0.238325</td>\n",
       "      <td>0.006821</td>\n",
       "      <td>4.5</td>\n",
       "      <td>0.125</td>\n",
       "      <td>5.0</td>\n",
       "      <td>2.0</td>\n",
       "      <td>0.346723</td>\n",
       "      <td>0.5</td>\n",
       "      <td>728660</td>\n",
       "      <td>0.074074</td>\n",
       "      <td>1</td>\n",
       "      <td>0.040404</td>\n",
       "    </tr>\n",
       "    <tr>\n",
       "      <th>4</th>\n",
       "      <td>0</td>\n",
       "      <td>0</td>\n",
       "      <td>0</td>\n",
       "      <td>60041</td>\n",
       "      <td>0.043125</td>\n",
       "      <td>0.090695</td>\n",
       "      <td>0.021667</td>\n",
       "      <td>3.5</td>\n",
       "      <td>0.125</td>\n",
       "      <td>3.0</td>\n",
       "      <td>2.0</td>\n",
       "      <td>0.346723</td>\n",
       "      <td>0.5</td>\n",
       "      <td>728660</td>\n",
       "      <td>0.074074</td>\n",
       "      <td>1</td>\n",
       "      <td>0.040404</td>\n",
       "    </tr>\n",
       "  </tbody>\n",
       "</table>\n",
       "</div>"
      ],
      "text/plain": [
       "   prop_booking_bool  prop_brand_bool  prop_dotd_bool  prop_market_id  \\\n",
       "0                  0                1               0           60041   \n",
       "1                  0                0               0           60041   \n",
       "2                  0                1               0           60041   \n",
       "3                  0                1               0           60041   \n",
       "4                  0                0               0           60041   \n",
       "\n",
       "   prop_price_with_discount_usd  prop_price_without_discount_usd  \\\n",
       "0                      0.055900                         0.093360   \n",
       "1                      0.046120                         0.076855   \n",
       "2                      0.046990                         0.233625   \n",
       "3                      0.086650                         0.238325   \n",
       "4                      0.043125                         0.090695   \n",
       "\n",
       "   prop_review_count  prop_review_score  prop_room_capacity  prop_starrating  \\\n",
       "0           0.012439                4.5               0.125              3.5   \n",
       "1           0.003117                3.5               0.125              3.0   \n",
       "2           0.036699                4.5               0.125              3.5   \n",
       "3           0.006821                4.5               0.125              5.0   \n",
       "4           0.021667                3.5               0.125              3.0   \n",
       "\n",
       "   srch_adults_cnt   srch_bw  srch_ci_day  srch_hcom_destination_id  srch_los  \\\n",
       "0              2.0  0.346723          0.5                    728660  0.074074   \n",
       "1              2.0  0.346723          0.5                    728660  0.074074   \n",
       "2              2.0  0.346723          0.5                    728660  0.074074   \n",
       "3              2.0  0.346723          0.5                    728660  0.074074   \n",
       "4              2.0  0.346723          0.5                    728660  0.074074   \n",
       "\n",
       "   srch_rm_cnt  srch_visitor_visit_nbr  \n",
       "0            1                0.040404  \n",
       "1            1                0.040404  \n",
       "2            1                0.040404  \n",
       "3            1                0.040404  \n",
       "4            1                0.040404  "
      ]
     },
     "execution_count": 58,
     "metadata": {},
     "output_type": "execute_result"
    }
   ],
   "source": [
    "num_df.head()"
   ]
  },
  {
   "cell_type": "code",
   "execution_count": 83,
   "metadata": {},
   "outputs": [],
   "source": [
    "X_train = pd.concat([cat_df, num_df], axis = 1)"
   ]
  },
  {
   "cell_type": "code",
   "execution_count": 84,
   "metadata": {},
   "outputs": [
    {
     "data": {
      "text/plain": [
       "(1185901, 26)"
      ]
     },
     "execution_count": 84,
     "metadata": {},
     "output_type": "execute_result"
    }
   ],
   "source": [
    "X_train.shape"
   ]
  },
  {
   "cell_type": "code",
   "execution_count": 85,
   "metadata": {},
   "outputs": [],
   "source": [
    "X_train=X_train.loc[X_train['srch_adults_cnt']>0]"
   ]
  },
  {
   "cell_type": "code",
   "execution_count": 70,
   "metadata": {},
   "outputs": [
    {
     "data": {
      "text/plain": [
       "(1185883, 35)"
      ]
     },
     "execution_count": 70,
     "metadata": {},
     "output_type": "execute_result"
    }
   ],
   "source": [
    "X_train.shape"
   ]
  },
  {
   "cell_type": "code",
   "execution_count": 35,
   "metadata": {},
   "outputs": [
    {
     "data": {
      "text/plain": [
       "<matplotlib.axes._subplots.AxesSubplot at 0x1979479d4e0>"
      ]
     },
     "execution_count": 35,
     "metadata": {},
     "output_type": "execute_result"
    },
    {
     "data": {
      "image/png": "[encoded data removed]",
      "text/plain": [
       "<Figure size 1080x720 with 2 Axes>"
      ]
     },
     "metadata": {
      "needs_background": "light"
     },
     "output_type": "display_data"
    }
   ],
   "source": [
    "fig,ax=plt.subplots(figsize=(15,10))\n",
    "sns.heatmap(X_train.corr(),cmap='coolwarm',ax=ax,annot=True, linewidths=2)"
   ]
  },
  {
   "cell_type": "code",
   "execution_count": 86,
   "metadata": {},
   "outputs": [],
   "source": [
    "Train=X_train"
   ]
  },
  {
   "cell_type": "code",
   "execution_count": 87,
   "metadata": {},
   "outputs": [
    {
     "data": {
      "text/plain": [
       "array([ 0,  1, -1], dtype=int64)"
      ]
     },
     "execution_count": 87,
     "metadata": {},
     "output_type": "execute_result"
    }
   ],
   "source": [
    "Train['prop_booking_bool'].unique()"
   ]
  },
  {
   "cell_type": "code",
   "execution_count": 90,
   "metadata": {},
   "outputs": [],
   "source": [
    "X_train = Train[Train['prop_booking_bool'] != -1].reset_index(drop=True)"
   ]
  },
  {
   "cell_type": "code",
   "execution_count": 88,
   "metadata": {},
   "outputs": [],
   "source": [
    "X_test = Train[Train['prop_booking_bool'] == -1].reset_index(drop=True)\n",
    "X_test.drop(['prop_booking_bool'], axis=1, inplace=True)"
   ]
  },
  {
   "cell_type": "code",
   "execution_count": 89,
   "metadata": {},
   "outputs": [
    {
     "data": {
      "text/plain": [
       "(349671, 25)"
      ]
     },
     "execution_count": 89,
     "metadata": {},
     "output_type": "execute_result"
    }
   ],
   "source": [
    "X_test.shape"
   ]
  },
  {
   "cell_type": "code",
   "execution_count": 91,
   "metadata": {},
   "outputs": [
    {
     "data": {
      "text/plain": [
       "(836212, 26)"
      ]
     },
     "execution_count": 91,
     "metadata": {},
     "output_type": "execute_result"
    }
   ],
   "source": [
    "X_train.shape"
   ]
  },
  {
   "cell_type": "code",
   "execution_count": 94,
   "metadata": {},
   "outputs": [
    {
     "name": "stdout",
     "output_type": "stream",
     "text": [
      "Percentage of not  book:  0.5\n",
      "Percentage of book:  0.5\n",
      "Total number of records in resampled data:  47550\n"
     ]
    }
   ],
   "source": [
    "book_indices = X_train[X_train['prop_booking_bool']==1].index\n",
    "\n",
    "random_indices = np.random.choice(book_indices, len(X_train.loc[X_train['prop_booking_bool'] == 1]), replace=False)\n",
    "book_sample = X_train.loc[random_indices]\n",
    "\n",
    "not_book = X_train[X_train['prop_booking_bool'] == 0].index\n",
    "random_indices = np.random.choice(not_book, sum(X_train['prop_booking_bool']), replace=False)\n",
    "not_book_sample = X_train.loc[random_indices]\n",
    "\n",
    "xtrain = pd.concat([not_book_sample, book_sample], axis=0)\n",
    "\n",
    "print(\"Percentage of not  book: \", len(xtrain[xtrain['prop_booking_bool']==0])/len(xtrain))\n",
    "print(\"Percentage of book: \", len(xtrain[xtrain['prop_booking_bool']==1])/len(xtrain))\n",
    "print(\"Total number of records in resampled data: \", len(xtrain))"
   ]
  },
  {
   "cell_type": "code",
   "execution_count": 35,
   "metadata": {},
   "outputs": [
    {
     "data": {
      "text/plain": [
       "(48026, 15)"
      ]
     },
     "execution_count": 35,
     "metadata": {},
     "output_type": "execute_result"
    }
   ],
   "source": [
    "xtrain.shape"
   ]
  },
  {
   "cell_type": "code",
   "execution_count": 27,
   "metadata": {},
   "outputs": [
    {
     "data": {
      "text/plain": [
       "3382"
      ]
     },
     "execution_count": 27,
     "metadata": {},
     "output_type": "execute_result"
    }
   ],
   "source": [
    "xtrain['prop_key'].nunique()"
   ]
  },
  {
   "cell_type": "code",
   "execution_count": 183,
   "metadata": {},
   "outputs": [
    {
     "data": {
      "text/html": [
       "<div>\n",
       "<style scoped>\n",
       "    .dataframe tbody tr th:only-of-type {\n",
       "        vertical-align: middle;\n",
       "    }\n",
       "\n",
       "    .dataframe tbody tr th {\n",
       "        vertical-align: top;\n",
       "    }\n",
       "\n",
       "    .dataframe thead th {\n",
       "        text-align: right;\n",
       "    }\n",
       "</style>\n",
       "<table border=\"1\" class=\"dataframe\">\n",
       "  <thead>\n",
       "    <tr style=\"text-align: right;\">\n",
       "      <th></th>\n",
       "      <th></th>\n",
       "      <th></th>\n",
       "      <th>sum</th>\n",
       "      <th>count</th>\n",
       "    </tr>\n",
       "    <tr>\n",
       "      <th>srch_hcom_destination_id</th>\n",
       "      <th>prop_country</th>\n",
       "      <th>prop_market_id</th>\n",
       "      <th></th>\n",
       "      <th></th>\n",
       "    </tr>\n",
       "  </thead>\n",
       "  <tbody>\n",
       "    <tr>\n",
       "      <th rowspan=\"5\" valign=\"top\">504261</th>\n",
       "      <th rowspan=\"5\" valign=\"top\">0</th>\n",
       "      <th>407</th>\n",
       "      <td>-24105</td>\n",
       "      <td>87691</td>\n",
       "    </tr>\n",
       "    <tr>\n",
       "      <th>61469</th>\n",
       "      <td>-77</td>\n",
       "      <td>196</td>\n",
       "    </tr>\n",
       "    <tr>\n",
       "      <th>101939</th>\n",
       "      <td>-170</td>\n",
       "      <td>458</td>\n",
       "    </tr>\n",
       "    <tr>\n",
       "      <th>102059</th>\n",
       "      <td>0</td>\n",
       "      <td>1</td>\n",
       "    </tr>\n",
       "    <tr>\n",
       "      <th>108227</th>\n",
       "      <td>-118</td>\n",
       "      <td>224</td>\n",
       "    </tr>\n",
       "  </tbody>\n",
       "</table>\n",
       "</div>"
      ],
      "text/plain": [
       "                                                        sum  count\n",
       "srch_hcom_destination_id prop_country prop_market_id              \n",
       "504261                   0            407            -24105  87691\n",
       "                                      61469             -77    196\n",
       "                                      101939           -170    458\n",
       "                                      102059              0      1\n",
       "                                      108227           -118    224"
      ]
     },
     "execution_count": 183,
     "metadata": {},
     "output_type": "execute_result"
    }
   ],
   "source": [
    "pieces=[X_train.groupby(['srch_hcom_destination_id', 'prop_country','prop_market_id'])['prop_booking_bool'].agg(['sum','count'])]\n",
    "agg=pd.concat(pieces).groupby(level=[0,1,2]).sum()\n",
    "agg.head()"
   ]
  },
  {
   "cell_type": "code",
   "execution_count": 184,
   "metadata": {},
   "outputs": [],
   "source": [
    "agg['sum_and_cnt']=0.85*agg['sum']+0.15*agg['count']\n",
    "agg=agg.groupby(level=[0,1]).apply(lambda x: x.astype(float)/x.sum())\n",
    "agg.reset_index(inplace=True)\n",
    "agg.dropna(inplace=True)"
   ]
  },
  {
   "cell_type": "code",
   "execution_count": 185,
   "metadata": {},
   "outputs": [
    {
     "data": {
      "text/html": [
       "<div>\n",
       "<style scoped>\n",
       "    .dataframe tbody tr th:only-of-type {\n",
       "        vertical-align: middle;\n",
       "    }\n",
       "\n",
       "    .dataframe tbody tr th {\n",
       "        vertical-align: top;\n",
       "    }\n",
       "\n",
       "    .dataframe thead th {\n",
       "        text-align: right;\n",
       "    }\n",
       "</style>\n",
       "<table border=\"1\" class=\"dataframe\">\n",
       "  <thead>\n",
       "    <tr style=\"text-align: right;\">\n",
       "      <th></th>\n",
       "      <th>srch_hcom_destination_id</th>\n",
       "      <th>prop_country</th>\n",
       "      <th>prop_market_id</th>\n",
       "      <th>sum</th>\n",
       "      <th>count</th>\n",
       "      <th>sum_and_cnt</th>\n",
       "    </tr>\n",
       "  </thead>\n",
       "  <tbody>\n",
       "    <tr>\n",
       "      <th>0</th>\n",
       "      <td>504261</td>\n",
       "      <td>0</td>\n",
       "      <td>407</td>\n",
       "      <td>0.941970</td>\n",
       "      <td>0.951230</td>\n",
       "      <td>0.925809</td>\n",
       "    </tr>\n",
       "    <tr>\n",
       "      <th>1</th>\n",
       "      <td>504261</td>\n",
       "      <td>0</td>\n",
       "      <td>61469</td>\n",
       "      <td>0.003009</td>\n",
       "      <td>0.002126</td>\n",
       "      <td>0.004550</td>\n",
       "    </tr>\n",
       "    <tr>\n",
       "      <th>2</th>\n",
       "      <td>504261</td>\n",
       "      <td>0</td>\n",
       "      <td>101939</td>\n",
       "      <td>0.006643</td>\n",
       "      <td>0.004968</td>\n",
       "      <td>0.009567</td>\n",
       "    </tr>\n",
       "    <tr>\n",
       "      <th>3</th>\n",
       "      <td>504261</td>\n",
       "      <td>0</td>\n",
       "      <td>102059</td>\n",
       "      <td>-0.000000</td>\n",
       "      <td>0.000011</td>\n",
       "      <td>-0.000019</td>\n",
       "    </tr>\n",
       "    <tr>\n",
       "      <th>4</th>\n",
       "      <td>504261</td>\n",
       "      <td>0</td>\n",
       "      <td>108227</td>\n",
       "      <td>0.004611</td>\n",
       "      <td>0.002430</td>\n",
       "      <td>0.008418</td>\n",
       "    </tr>\n",
       "  </tbody>\n",
       "</table>\n",
       "</div>"
      ],
      "text/plain": [
       "   srch_hcom_destination_id  prop_country  prop_market_id       sum     count  \\\n",
       "0                    504261             0             407  0.941970  0.951230   \n",
       "1                    504261             0           61469  0.003009  0.002126   \n",
       "2                    504261             0          101939  0.006643  0.004968   \n",
       "3                    504261             0          102059 -0.000000  0.000011   \n",
       "4                    504261             0          108227  0.004611  0.002430   \n",
       "\n",
       "   sum_and_cnt  \n",
       "0     0.925809  \n",
       "1     0.004550  \n",
       "2     0.009567  \n",
       "3    -0.000019  \n",
       "4     0.008418  "
      ]
     },
     "execution_count": 185,
     "metadata": {},
     "output_type": "execute_result"
    }
   ],
   "source": [
    "agg.head()"
   ]
  },
  {
   "cell_type": "code",
   "execution_count": 186,
   "metadata": {},
   "outputs": [],
   "source": [
    "agg_pivot=agg.pivot_table(index=['srch_hcom_destination_id','prop_country'],columns='prop_market_id',\n",
    "                         values='sum_and_cnt')"
   ]
  },
  {
   "cell_type": "code",
   "execution_count": 187,
   "metadata": {},
   "outputs": [],
   "source": [
    "x_train=pd.merge(xtrain,agg_pivot, how='left',on=['srch_hcom_destination_id','prop_country'])\n",
    "x_train.fillna(0, inplace=True)"
   ]
  },
  {
   "cell_type": "code",
   "execution_count": null,
   "metadata": {},
   "outputs": [],
   "source": [
    "X_train.loc[:, features].values[:, 0]"
   ]
  },
  {
   "cell_type": "code",
   "execution_count": 193,
   "metadata": {},
   "outputs": [
    {
     "data": {
      "text/plain": [
       "3"
      ]
     },
     "execution_count": 193,
     "metadata": {},
     "output_type": "execute_result"
    }
   ],
   "source": [
    "features=['srch_hcom_destination_id','prop_country','prop_market_id']\n",
    "X_train.loc[:, features].values.shape[1]"
   ]
  },
  {
   "cell_type": "code",
   "execution_count": 178,
   "metadata": {},
   "outputs": [
    {
     "name": "stdout",
     "output_type": "stream",
     "text": [
      "Percentage of not  book:  0.5\n",
      "Percentage of book:  0.5\n",
      "Total number of records in resampled data:  47550\n"
     ]
    }
   ],
   "source": [
    "book_indices = X_train[X_train['prop_booking_bool']==1].index\n",
    "\n",
    "random_indices = np.random.choice(book_indices, len(X_train.loc[X_train['prop_booking_bool'] == 1]), replace=False)\n",
    "book_sample = X_train.loc[random_indices]\n",
    "\n",
    "not_book = X_train[X_train['prop_booking_bool'] == 0].index\n",
    "random_indices = np.random.choice(not_book, sum(X_train['prop_booking_bool']), replace=False)\n",
    "not_book_sample = X_train.loc[random_indices]\n",
    "\n",
    "xtrain = pd.concat([not_book_sample, book_sample], axis=0)\n",
    "\n",
    "print(\"Percentage of not  book: \", len(xtrain[xtrain['prop_booking_bool']==0])/len(xtrain))\n",
    "print(\"Percentage of book: \", len(xtrain[xtrain['prop_booking_bool']==1])/len(xtrain))\n",
    "print(\"Total number of records in resampled data: \", len(xtrain))"
   ]
  },
  {
   "cell_type": "code",
   "execution_count": 179,
   "metadata": {},
   "outputs": [
    {
     "data": {
      "text/plain": [
       "(47550, 78)"
      ]
     },
     "execution_count": 179,
     "metadata": {},
     "output_type": "execute_result"
    }
   ],
   "source": [
    "xtrain.shape"
   ]
  },
  {
   "cell_type": "code",
   "execution_count": 81,
   "metadata": {},
   "outputs": [],
   "source": [
    "Y=x_train['prop_booking_bool']\n",
    "x_train.drop(['prop_booking_bool'], axis=1, inplace=True)\n",
    "Y=Y.values.tolist()"
   ]
  },
  {
   "cell_type": "code",
   "execution_count": 72,
   "metadata": {},
   "outputs": [],
   "source": [
    "xtrain.drop(['prop_hostel_bool'], axis=1, inplace=True)"
   ]
  },
  {
   "cell_type": "code",
   "execution_count": 85,
   "metadata": {},
   "outputs": [],
   "source": [
    "from sklearn.preprocessing import LabelEncoder\n",
    "\n",
    "features = [x for x in x_train.columns]\n",
    "le = LabelEncoder()\n",
    "\n",
    "for feat in features:\n",
    "    value=list(x_train[feat].unique())\n",
    "    le.fit(value)\n",
    "    x_train[feat]=le.fit_transform(x_train[feat])"
   ]
  },
  {
   "cell_type": "code",
   "execution_count": 157,
   "metadata": {},
   "outputs": [
    {
     "name": "stdout",
     "output_type": "stream",
     "text": [
      "<class 'pandas.core.frame.DataFrame'>\n",
      "Int64Index: 47550 entries, 294573 to 455622\n",
      "Data columns (total 23 columns):\n",
      "prop_country                47550 non-null int32\n",
      "srch_device                 47550 non-null int32\n",
      "srch_posa_country           47550 non-null int32\n",
      "srch_visitor_loc_country    47550 non-null int32\n",
      "Cin_month                   47550 non-null int64\n",
      "Cin_year                    47550 non-null int64\n",
      "prop_booking_bool           47550 non-null int64\n",
      "prop_brand_bool             47550 non-null int64\n",
      "prop_dotd_bool              47550 non-null int64\n",
      "prop_key                    47550 non-null int64\n",
      "prop_market_id              47550 non-null int64\n",
      "prop_review_count           47550 non-null float64\n",
      "prop_review_score           47550 non-null float64\n",
      "prop_room_capacity          47550 non-null int32\n",
      "prop_starrating             47550 non-null float64\n",
      "srch_adults_cnt             47550 non-null float64\n",
      "srch_bw                     47550 non-null int64\n",
      "srch_ci_day                 47550 non-null int64\n",
      "srch_hcom_destination_id    47550 non-null int64\n",
      "srch_id                     47550 non-null int64\n",
      "srch_los                    47550 non-null int64\n",
      "srch_rm_cnt                 47550 non-null int64\n",
      "srch_visitor_visit_nbr      47550 non-null int64\n",
      "dtypes: float64(4), int32(5), int64(14)\n",
      "memory usage: 7.8 MB\n"
     ]
    }
   ],
   "source": [
    "xtrain.info()"
   ]
  },
  {
   "cell_type": "code",
   "execution_count": 95,
   "metadata": {},
   "outputs": [],
   "source": [
    "xtrain.to_csv('x_train.csv', index=False)\n",
    "X_test.to_csv('x_test.csv',index=False)"
   ]
  },
  {
   "cell_type": "code",
   "execution_count": 36,
   "metadata": {},
   "outputs": [
    {
     "data": {
      "text/plain": [
       "(48026, 15)"
      ]
     },
     "execution_count": 36,
     "metadata": {},
     "output_type": "execute_result"
    }
   ],
   "source": [
    "xtrain.shape"
   ]
  },
  {
   "cell_type": "code",
   "execution_count": 92,
   "metadata": {},
   "outputs": [
    {
     "data": {
      "text/plain": [
       "(349671, 25)"
      ]
     },
     "execution_count": 92,
     "metadata": {},
     "output_type": "execute_result"
    }
   ],
   "source": [
    "X_test.shape"
   ]
  },
  {
   "cell_type": "code",
   "execution_count": 153,
   "metadata": {},
   "outputs": [],
   "source": [
    "train=pd.read_csv('x_train.csv')\n",
    "x_test = pd.read_csv('x_test.csv')"
   ]
  },
  {
   "cell_type": "code",
   "execution_count": 154,
   "metadata": {},
   "outputs": [
    {
     "data": {
      "text/html": [
       "<div>\n",
       "<style scoped>\n",
       "    .dataframe tbody tr th:only-of-type {\n",
       "        vertical-align: middle;\n",
       "    }\n",
       "\n",
       "    .dataframe tbody tr th {\n",
       "        vertical-align: top;\n",
       "    }\n",
       "\n",
       "    .dataframe thead th {\n",
       "        text-align: right;\n",
       "    }\n",
       "</style>\n",
       "<table border=\"1\" class=\"dataframe\">\n",
       "  <thead>\n",
       "    <tr style=\"text-align: right;\">\n",
       "      <th></th>\n",
       "      <th>prop_country</th>\n",
       "      <th>srch_device</th>\n",
       "      <th>srch_posa_country</th>\n",
       "      <th>srch_visitor_loc_country</th>\n",
       "      <th>Cin_month</th>\n",
       "      <th>Cin_year</th>\n",
       "      <th>prop_booking_bool</th>\n",
       "      <th>prop_brand_bool</th>\n",
       "      <th>prop_dotd_bool</th>\n",
       "      <th>prop_key</th>\n",
       "      <th>...</th>\n",
       "      <th>prop_room_capacity</th>\n",
       "      <th>prop_starrating</th>\n",
       "      <th>srch_adults_cnt</th>\n",
       "      <th>srch_bw</th>\n",
       "      <th>srch_ci_day</th>\n",
       "      <th>srch_hcom_destination_id</th>\n",
       "      <th>srch_id</th>\n",
       "      <th>srch_los</th>\n",
       "      <th>srch_rm_cnt</th>\n",
       "      <th>srch_visitor_visit_nbr</th>\n",
       "    </tr>\n",
       "  </thead>\n",
       "  <tbody>\n",
       "    <tr>\n",
       "      <th>0</th>\n",
       "      <td>7</td>\n",
       "      <td>0</td>\n",
       "      <td>33</td>\n",
       "      <td>75</td>\n",
       "      <td>4</td>\n",
       "      <td>0</td>\n",
       "      <td>0</td>\n",
       "      <td>0</td>\n",
       "      <td>0</td>\n",
       "      <td>263211</td>\n",
       "      <td>...</td>\n",
       "      <td>500</td>\n",
       "      <td>3.0</td>\n",
       "      <td>2.0</td>\n",
       "      <td>187</td>\n",
       "      <td>4</td>\n",
       "      <td>1504033</td>\n",
       "      <td>1675011581</td>\n",
       "      <td>2</td>\n",
       "      <td>1</td>\n",
       "      <td>100</td>\n",
       "    </tr>\n",
       "    <tr>\n",
       "      <th>1</th>\n",
       "      <td>6</td>\n",
       "      <td>0</td>\n",
       "      <td>63</td>\n",
       "      <td>153</td>\n",
       "      <td>10</td>\n",
       "      <td>1</td>\n",
       "      <td>0</td>\n",
       "      <td>1</td>\n",
       "      <td>0</td>\n",
       "      <td>1098965</td>\n",
       "      <td>...</td>\n",
       "      <td>2000</td>\n",
       "      <td>4.0</td>\n",
       "      <td>2.0</td>\n",
       "      <td>28</td>\n",
       "      <td>7</td>\n",
       "      <td>549499</td>\n",
       "      <td>-937473430</td>\n",
       "      <td>1</td>\n",
       "      <td>1</td>\n",
       "      <td>2</td>\n",
       "    </tr>\n",
       "    <tr>\n",
       "      <th>2</th>\n",
       "      <td>7</td>\n",
       "      <td>0</td>\n",
       "      <td>66</td>\n",
       "      <td>154</td>\n",
       "      <td>9</td>\n",
       "      <td>1</td>\n",
       "      <td>0</td>\n",
       "      <td>1</td>\n",
       "      <td>0</td>\n",
       "      <td>242706</td>\n",
       "      <td>...</td>\n",
       "      <td>500</td>\n",
       "      <td>4.0</td>\n",
       "      <td>1.0</td>\n",
       "      <td>8</td>\n",
       "      <td>6</td>\n",
       "      <td>1506246</td>\n",
       "      <td>821766222</td>\n",
       "      <td>1</td>\n",
       "      <td>1</td>\n",
       "      <td>1</td>\n",
       "    </tr>\n",
       "    <tr>\n",
       "      <th>3</th>\n",
       "      <td>7</td>\n",
       "      <td>0</td>\n",
       "      <td>66</td>\n",
       "      <td>154</td>\n",
       "      <td>10</td>\n",
       "      <td>1</td>\n",
       "      <td>0</td>\n",
       "      <td>1</td>\n",
       "      <td>0</td>\n",
       "      <td>248735</td>\n",
       "      <td>...</td>\n",
       "      <td>500</td>\n",
       "      <td>3.0</td>\n",
       "      <td>1.0</td>\n",
       "      <td>31</td>\n",
       "      <td>5</td>\n",
       "      <td>1504033</td>\n",
       "      <td>-1456446884</td>\n",
       "      <td>3</td>\n",
       "      <td>1</td>\n",
       "      <td>3</td>\n",
       "    </tr>\n",
       "    <tr>\n",
       "      <th>4</th>\n",
       "      <td>6</td>\n",
       "      <td>0</td>\n",
       "      <td>63</td>\n",
       "      <td>154</td>\n",
       "      <td>10</td>\n",
       "      <td>1</td>\n",
       "      <td>0</td>\n",
       "      <td>1</td>\n",
       "      <td>0</td>\n",
       "      <td>242138</td>\n",
       "      <td>...</td>\n",
       "      <td>500</td>\n",
       "      <td>4.5</td>\n",
       "      <td>1.0</td>\n",
       "      <td>12</td>\n",
       "      <td>7</td>\n",
       "      <td>549499</td>\n",
       "      <td>-460547863</td>\n",
       "      <td>1</td>\n",
       "      <td>1</td>\n",
       "      <td>1</td>\n",
       "    </tr>\n",
       "  </tbody>\n",
       "</table>\n",
       "<p>5 rows × 23 columns</p>\n",
       "</div>"
      ],
      "text/plain": [
       "   prop_country  srch_device  srch_posa_country  srch_visitor_loc_country  \\\n",
       "0             7            0                 33                        75   \n",
       "1             6            0                 63                       153   \n",
       "2             7            0                 66                       154   \n",
       "3             7            0                 66                       154   \n",
       "4             6            0                 63                       154   \n",
       "\n",
       "   Cin_month  Cin_year  prop_booking_bool  prop_brand_bool  prop_dotd_bool  \\\n",
       "0          4         0                  0                0               0   \n",
       "1         10         1                  0                1               0   \n",
       "2          9         1                  0                1               0   \n",
       "3         10         1                  0                1               0   \n",
       "4         10         1                  0                1               0   \n",
       "\n",
       "   prop_key           ...            prop_room_capacity  prop_starrating  \\\n",
       "0    263211           ...                           500              3.0   \n",
       "1   1098965           ...                          2000              4.0   \n",
       "2    242706           ...                           500              4.0   \n",
       "3    248735           ...                           500              3.0   \n",
       "4    242138           ...                           500              4.5   \n",
       "\n",
       "   srch_adults_cnt  srch_bw  srch_ci_day  srch_hcom_destination_id  \\\n",
       "0              2.0      187            4                   1504033   \n",
       "1              2.0       28            7                    549499   \n",
       "2              1.0        8            6                   1506246   \n",
       "3              1.0       31            5                   1504033   \n",
       "4              1.0       12            7                    549499   \n",
       "\n",
       "      srch_id  srch_los  srch_rm_cnt  srch_visitor_visit_nbr  \n",
       "0  1675011581         2            1                     100  \n",
       "1  -937473430         1            1                       2  \n",
       "2   821766222         1            1                       1  \n",
       "3 -1456446884         3            1                       3  \n",
       "4  -460547863         1            1                       1  \n",
       "\n",
       "[5 rows x 23 columns]"
      ]
     },
     "execution_count": 154,
     "metadata": {},
     "output_type": "execute_result"
    }
   ],
   "source": [
    "train.head()"
   ]
  },
  {
   "cell_type": "code",
   "execution_count": 83,
   "metadata": {},
   "outputs": [],
   "source": [
    "ytrain=np.array(Y)\n",
    "np.savetxt('y_train.csv', ytrain)"
   ]
  },
  {
   "cell_type": "code",
   "execution_count": 69,
   "metadata": {},
   "outputs": [],
   "source": [
    "from sklearn.ensemble import RandomForestClassifier\n",
    "from sklearn.ensemble import GradientBoostingClassifier\n",
    "from sklearn.ensemble import BaggingClassifier\n",
    "from sklearn.ensemble import AdaBoostClassifier\n",
    "from sklearn.ensemble import ExtraTreesClassifier\n",
    "from sklearn.neural_network import MLPClassifier\n",
    "from sklearn.naive_bayes import GaussianNB\n",
    "from sklearn.naive_bayes import BernoulliNB\n",
    "from sklearn.naive_bayes import MultinomialNB\n",
    "from sklearn import metrics\n",
    "from sklearn.model_selection import train_test_split"
   ]
  },
  {
   "cell_type": "code",
   "execution_count": 113,
   "metadata": {},
   "outputs": [
    {
     "data": {
      "text/html": [
       "<div>\n",
       "<style scoped>\n",
       "    .dataframe tbody tr th:only-of-type {\n",
       "        vertical-align: middle;\n",
       "    }\n",
       "\n",
       "    .dataframe tbody tr th {\n",
       "        vertical-align: top;\n",
       "    }\n",
       "\n",
       "    .dataframe thead th {\n",
       "        text-align: right;\n",
       "    }\n",
       "</style>\n",
       "<table border=\"1\" class=\"dataframe\">\n",
       "  <thead>\n",
       "    <tr style=\"text-align: right;\">\n",
       "      <th></th>\n",
       "      <th>prop_country</th>\n",
       "      <th>srch_device</th>\n",
       "      <th>srch_posa_country</th>\n",
       "      <th>srch_visitor_loc_country</th>\n",
       "      <th>Cin_month</th>\n",
       "      <th>Cin_year</th>\n",
       "      <th>prop_booking_bool</th>\n",
       "      <th>prop_brand_bool</th>\n",
       "      <th>prop_dotd_bool</th>\n",
       "      <th>prop_hostel_bool</th>\n",
       "      <th>...</th>\n",
       "      <th>prop_starrating</th>\n",
       "      <th>srch_adults_cnt</th>\n",
       "      <th>srch_bw</th>\n",
       "      <th>srch_children_cnt</th>\n",
       "      <th>srch_ci_day</th>\n",
       "      <th>srch_hcom_destination_id</th>\n",
       "      <th>srch_id</th>\n",
       "      <th>srch_los</th>\n",
       "      <th>srch_rm_cnt</th>\n",
       "      <th>srch_visitor_visit_nbr</th>\n",
       "    </tr>\n",
       "  </thead>\n",
       "  <tbody>\n",
       "    <tr>\n",
       "      <th>74228</th>\n",
       "      <td>7</td>\n",
       "      <td>0</td>\n",
       "      <td>66</td>\n",
       "      <td>154</td>\n",
       "      <td>9</td>\n",
       "      <td>1</td>\n",
       "      <td>0</td>\n",
       "      <td>1</td>\n",
       "      <td>0</td>\n",
       "      <td>0</td>\n",
       "      <td>...</td>\n",
       "      <td>3.5</td>\n",
       "      <td>2.0</td>\n",
       "      <td>0.006342</td>\n",
       "      <td>0.0</td>\n",
       "      <td>0.666667</td>\n",
       "      <td>1506246</td>\n",
       "      <td>1789049048</td>\n",
       "      <td>0.000000</td>\n",
       "      <td>1</td>\n",
       "      <td>0.010101</td>\n",
       "    </tr>\n",
       "    <tr>\n",
       "      <th>367697</th>\n",
       "      <td>7</td>\n",
       "      <td>1</td>\n",
       "      <td>66</td>\n",
       "      <td>154</td>\n",
       "      <td>1</td>\n",
       "      <td>0</td>\n",
       "      <td>0</td>\n",
       "      <td>1</td>\n",
       "      <td>0</td>\n",
       "      <td>0</td>\n",
       "      <td>...</td>\n",
       "      <td>2.0</td>\n",
       "      <td>2.0</td>\n",
       "      <td>0.260042</td>\n",
       "      <td>0.0</td>\n",
       "      <td>0.666667</td>\n",
       "      <td>1497539</td>\n",
       "      <td>-1028417738</td>\n",
       "      <td>0.074074</td>\n",
       "      <td>1</td>\n",
       "      <td>0.000000</td>\n",
       "    </tr>\n",
       "    <tr>\n",
       "      <th>659560</th>\n",
       "      <td>1</td>\n",
       "      <td>0</td>\n",
       "      <td>66</td>\n",
       "      <td>154</td>\n",
       "      <td>9</td>\n",
       "      <td>1</td>\n",
       "      <td>0</td>\n",
       "      <td>0</td>\n",
       "      <td>0</td>\n",
       "      <td>0</td>\n",
       "      <td>...</td>\n",
       "      <td>4.0</td>\n",
       "      <td>2.0</td>\n",
       "      <td>0.004228</td>\n",
       "      <td>0.0</td>\n",
       "      <td>0.666667</td>\n",
       "      <td>712491</td>\n",
       "      <td>686889237</td>\n",
       "      <td>0.111111</td>\n",
       "      <td>1</td>\n",
       "      <td>0.010101</td>\n",
       "    </tr>\n",
       "    <tr>\n",
       "      <th>371297</th>\n",
       "      <td>7</td>\n",
       "      <td>0</td>\n",
       "      <td>66</td>\n",
       "      <td>154</td>\n",
       "      <td>9</td>\n",
       "      <td>1</td>\n",
       "      <td>0</td>\n",
       "      <td>1</td>\n",
       "      <td>0</td>\n",
       "      <td>0</td>\n",
       "      <td>...</td>\n",
       "      <td>4.0</td>\n",
       "      <td>1.0</td>\n",
       "      <td>0.006342</td>\n",
       "      <td>0.0</td>\n",
       "      <td>0.833333</td>\n",
       "      <td>1506246</td>\n",
       "      <td>1846946962</td>\n",
       "      <td>0.000000</td>\n",
       "      <td>1</td>\n",
       "      <td>0.040404</td>\n",
       "    </tr>\n",
       "    <tr>\n",
       "      <th>683430</th>\n",
       "      <td>0</td>\n",
       "      <td>0</td>\n",
       "      <td>66</td>\n",
       "      <td>154</td>\n",
       "      <td>11</td>\n",
       "      <td>1</td>\n",
       "      <td>0</td>\n",
       "      <td>0</td>\n",
       "      <td>0</td>\n",
       "      <td>0</td>\n",
       "      <td>...</td>\n",
       "      <td>3.0</td>\n",
       "      <td>2.0</td>\n",
       "      <td>0.171247</td>\n",
       "      <td>0.0</td>\n",
       "      <td>0.500000</td>\n",
       "      <td>504261</td>\n",
       "      <td>-550312676</td>\n",
       "      <td>0.111111</td>\n",
       "      <td>1</td>\n",
       "      <td>0.000000</td>\n",
       "    </tr>\n",
       "  </tbody>\n",
       "</table>\n",
       "<p>5 rows × 27 columns</p>\n",
       "</div>"
      ],
      "text/plain": [
       "        prop_country  srch_device  srch_posa_country  \\\n",
       "74228              7            0                 66   \n",
       "367697             7            1                 66   \n",
       "659560             1            0                 66   \n",
       "371297             7            0                 66   \n",
       "683430             0            0                 66   \n",
       "\n",
       "        srch_visitor_loc_country  Cin_month  Cin_year  prop_booking_bool  \\\n",
       "74228                        154          9         1                  0   \n",
       "367697                       154          1         0                  0   \n",
       "659560                       154          9         1                  0   \n",
       "371297                       154          9         1                  0   \n",
       "683430                       154         11         1                  0   \n",
       "\n",
       "        prop_brand_bool  prop_dotd_bool  prop_hostel_bool  \\\n",
       "74228                 1               0                 0   \n",
       "367697                1               0                 0   \n",
       "659560                0               0                 0   \n",
       "371297                1               0                 0   \n",
       "683430                0               0                 0   \n",
       "\n",
       "                 ...            prop_starrating  srch_adults_cnt   srch_bw  \\\n",
       "74228            ...                        3.5              2.0  0.006342   \n",
       "367697           ...                        2.0              2.0  0.260042   \n",
       "659560           ...                        4.0              2.0  0.004228   \n",
       "371297           ...                        4.0              1.0  0.006342   \n",
       "683430           ...                        3.0              2.0  0.171247   \n",
       "\n",
       "        srch_children_cnt  srch_ci_day  srch_hcom_destination_id     srch_id  \\\n",
       "74228                 0.0     0.666667                   1506246  1789049048   \n",
       "367697                0.0     0.666667                   1497539 -1028417738   \n",
       "659560                0.0     0.666667                    712491   686889237   \n",
       "371297                0.0     0.833333                   1506246  1846946962   \n",
       "683430                0.0     0.500000                    504261  -550312676   \n",
       "\n",
       "        srch_los  srch_rm_cnt  srch_visitor_visit_nbr  \n",
       "74228   0.000000            1                0.010101  \n",
       "367697  0.074074            1                0.000000  \n",
       "659560  0.111111            1                0.010101  \n",
       "371297  0.000000            1                0.040404  \n",
       "683430  0.111111            1                0.000000  \n",
       "\n",
       "[5 rows x 27 columns]"
      ]
     },
     "execution_count": 113,
     "metadata": {},
     "output_type": "execute_result"
    }
   ],
   "source": [
    "xtrain.head()"
   ]
  },
  {
   "cell_type": "code",
   "execution_count": 114,
   "metadata": {},
   "outputs": [],
   "source": [
    "Y=xtrain['prop_booking_bool']\n",
    "xtrain.drop(['prop_booking_bool'], axis=1, inplace=True)"
   ]
  },
  {
   "cell_type": "code",
   "execution_count": 115,
   "metadata": {},
   "outputs": [
    {
     "data": {
      "text/plain": [
       "(47550, 26)"
      ]
     },
     "execution_count": 115,
     "metadata": {},
     "output_type": "execute_result"
    }
   ],
   "source": [
    "xtrain.shape"
   ]
  },
  {
   "cell_type": "code",
   "execution_count": 116,
   "metadata": {},
   "outputs": [],
   "source": [
    "Y=Y.values.tolist()"
   ]
  },
  {
   "cell_type": "code",
   "execution_count": 309,
   "metadata": {},
   "outputs": [],
   "source": [
    "X_train, X_test, y_train, y_test=train_test_split(xtrain, Y, test_size = 0.3, random_state=1)"
   ]
  },
  {
   "cell_type": "code",
   "execution_count": 79,
   "metadata": {},
   "outputs": [],
   "source": [
    "def print_evaluation_metrics(trained_model,trained_model_name,X_test,y_test):\n",
    "    predicted_values = trained_model.predict(X_test)\n",
    "    print(metrics.classification_report(y_test,predicted_values))\n",
    "    print(\"Accuracy Score : \",metrics.accuracy_score(y_test,predicted_values))\n",
    "    print(\"---------------------------------------\\n\")"
   ]
  },
  {
   "cell_type": "code",
   "execution_count": 75,
   "metadata": {},
   "outputs": [],
   "source": [
    "def feature_importance_plot(importance_sorted, title):\n",
    "    df = pd.DataFrame(importance_sorted, columns=['feature', 'fscore'])\n",
    "    df['fscore'] = df['fscore'] / df['fscore'].sum()\n",
    "\n",
    "    plt.figure()\n",
    "    # df.plot()\n",
    "    df.plot(kind='barh', x='feature', y='fscore',\n",
    "            legend=False, figsize=(12, 10))\n",
    "    plt.title('XGBoost Feature Importance')\n",
    "    plt.xlabel('relative importance')\n",
    "    plt.tight_layout()\n",
    "    plt.savefig(title + '.png', dpi=300)\n",
    "    plt.show()"
   ]
  },
  {
   "cell_type": "code",
   "execution_count": 76,
   "metadata": {},
   "outputs": [],
   "source": [
    "def xgb_importance(X_train, X_test, y_train, y_test, xgb_params, ntree, early_stop, plot_title):\n",
    "\n",
    "    dtrain = xgb.DMatrix(X_train, y_train)\n",
    "    dtest = xgb.DMatrix(X_test, y_test)\n",
    "\n",
    "    watchlist = [(dtrain, 'train'), (dtest, 'validate')]\n",
    "\n",
    "    xgb_model = xgb.train(xgb_params, dtrain, ntree, evals=watchlist,\n",
    "                          early_stopping_rounds=early_stop, verbose_eval=5)\n",
    "\n",
    "    importance = xgb_model.get_fscore()\n",
    "    importance_sorted = sorted(importance.items(), key=operator.itemgetter(1))\n",
    "    feature_importance_plot(importance_sorted, plot_title)"
   ]
  },
  {
   "cell_type": "code",
   "execution_count": 117,
   "metadata": {},
   "outputs": [
    {
     "name": "stderr",
     "output_type": "stream",
     "text": [
      "C:\\ProgramData\\Anaconda3\\lib\\site-packages\\xgboost\\sklearn.py:1224: UserWarning: The use of label encoder in XGBClassifier is deprecated and will be removed in a future release. To remove this warning, do the following: 1) Pass option use_label_encoder=False when constructing XGBClassifier object; and 2) Encode your labels (y) as integers starting with 0, i.e. 0, 1, 2, ..., [num_class - 1].\n",
      "  warnings.warn(label_encoder_deprecation_msg, UserWarning)\n"
     ]
    },
    {
     "name": "stdout",
     "output_type": "stream",
     "text": [
      "[12:25:54] WARNING: C:/Users/Administrator/workspace/xgboost-win64_release_1.5.0/src/learner.cc:1115: Starting in XGBoost 1.3.0, the default evaluation metric used with the objective 'binary:logistic' was changed from 'error' to 'logloss'. Explicitly set eval_metric if you'd like to restore the old behavior.\n"
     ]
    },
    {
     "name": "stderr",
     "output_type": "stream",
     "text": [
      "C:\\ProgramData\\Anaconda3\\lib\\site-packages\\xgboost\\sklearn.py:1224: UserWarning: The use of label encoder in XGBClassifier is deprecated and will be removed in a future release. To remove this warning, do the following: 1) Pass option use_label_encoder=False when constructing XGBClassifier object; and 2) Encode your labels (y) as integers starting with 0, i.e. 0, 1, 2, ..., [num_class - 1].\n",
      "  warnings.warn(label_encoder_deprecation_msg, UserWarning)\n"
     ]
    },
    {
     "name": "stdout",
     "output_type": "stream",
     "text": [
      "[12:26:18] WARNING: C:/Users/Administrator/workspace/xgboost-win64_release_1.5.0/src/learner.cc:1115: Starting in XGBoost 1.3.0, the default evaluation metric used with the objective 'binary:logistic' was changed from 'error' to 'logloss'. Explicitly set eval_metric if you'd like to restore the old behavior.\n"
     ]
    },
    {
     "name": "stderr",
     "output_type": "stream",
     "text": [
      "C:\\ProgramData\\Anaconda3\\lib\\site-packages\\xgboost\\sklearn.py:1224: UserWarning: The use of label encoder in XGBClassifier is deprecated and will be removed in a future release. To remove this warning, do the following: 1) Pass option use_label_encoder=False when constructing XGBClassifier object; and 2) Encode your labels (y) as integers starting with 0, i.e. 0, 1, 2, ..., [num_class - 1].\n",
      "  warnings.warn(label_encoder_deprecation_msg, UserWarning)\n"
     ]
    },
    {
     "name": "stdout",
     "output_type": "stream",
     "text": [
      "[12:26:45] WARNING: C:/Users/Administrator/workspace/xgboost-win64_release_1.5.0/src/learner.cc:1115: Starting in XGBoost 1.3.0, the default evaluation metric used with the objective 'binary:logistic' was changed from 'error' to 'logloss'. Explicitly set eval_metric if you'd like to restore the old behavior.\n"
     ]
    },
    {
     "name": "stderr",
     "output_type": "stream",
     "text": [
      "C:\\ProgramData\\Anaconda3\\lib\\site-packages\\xgboost\\sklearn.py:1224: UserWarning: The use of label encoder in XGBClassifier is deprecated and will be removed in a future release. To remove this warning, do the following: 1) Pass option use_label_encoder=False when constructing XGBClassifier object; and 2) Encode your labels (y) as integers starting with 0, i.e. 0, 1, 2, ..., [num_class - 1].\n",
      "  warnings.warn(label_encoder_deprecation_msg, UserWarning)\n"
     ]
    },
    {
     "name": "stdout",
     "output_type": "stream",
     "text": [
      "[12:27:13] WARNING: C:/Users/Administrator/workspace/xgboost-win64_release_1.5.0/src/learner.cc:1115: Starting in XGBoost 1.3.0, the default evaluation metric used with the objective 'binary:logistic' was changed from 'error' to 'logloss'. Explicitly set eval_metric if you'd like to restore the old behavior.\n"
     ]
    },
    {
     "name": "stderr",
     "output_type": "stream",
     "text": [
      "C:\\ProgramData\\Anaconda3\\lib\\site-packages\\xgboost\\sklearn.py:1224: UserWarning: The use of label encoder in XGBClassifier is deprecated and will be removed in a future release. To remove this warning, do the following: 1) Pass option use_label_encoder=False when constructing XGBClassifier object; and 2) Encode your labels (y) as integers starting with 0, i.e. 0, 1, 2, ..., [num_class - 1].\n",
      "  warnings.warn(label_encoder_deprecation_msg, UserWarning)\n"
     ]
    },
    {
     "name": "stdout",
     "output_type": "stream",
     "text": [
      "[12:27:39] WARNING: C:/Users/Administrator/workspace/xgboost-win64_release_1.5.0/src/learner.cc:1115: Starting in XGBoost 1.3.0, the default evaluation metric used with the objective 'binary:logistic' was changed from 'error' to 'logloss'. Explicitly set eval_metric if you'd like to restore the old behavior.\n"
     ]
    },
    {
     "name": "stderr",
     "output_type": "stream",
     "text": [
      "C:\\ProgramData\\Anaconda3\\lib\\site-packages\\xgboost\\sklearn.py:1224: UserWarning: The use of label encoder in XGBClassifier is deprecated and will be removed in a future release. To remove this warning, do the following: 1) Pass option use_label_encoder=False when constructing XGBClassifier object; and 2) Encode your labels (y) as integers starting with 0, i.e. 0, 1, 2, ..., [num_class - 1].\n",
      "  warnings.warn(label_encoder_deprecation_msg, UserWarning)\n"
     ]
    },
    {
     "name": "stdout",
     "output_type": "stream",
     "text": [
      "[12:28:05] WARNING: C:/Users/Administrator/workspace/xgboost-win64_release_1.5.0/src/learner.cc:1115: Starting in XGBoost 1.3.0, the default evaluation metric used with the objective 'binary:logistic' was changed from 'error' to 'logloss'. Explicitly set eval_metric if you'd like to restore the old behavior.\n"
     ]
    },
    {
     "name": "stderr",
     "output_type": "stream",
     "text": [
      "C:\\ProgramData\\Anaconda3\\lib\\site-packages\\xgboost\\sklearn.py:1224: UserWarning: The use of label encoder in XGBClassifier is deprecated and will be removed in a future release. To remove this warning, do the following: 1) Pass option use_label_encoder=False when constructing XGBClassifier object; and 2) Encode your labels (y) as integers starting with 0, i.e. 0, 1, 2, ..., [num_class - 1].\n",
      "  warnings.warn(label_encoder_deprecation_msg, UserWarning)\n"
     ]
    },
    {
     "name": "stdout",
     "output_type": "stream",
     "text": [
      "[12:28:30] WARNING: C:/Users/Administrator/workspace/xgboost-win64_release_1.5.0/src/learner.cc:1115: Starting in XGBoost 1.3.0, the default evaluation metric used with the objective 'binary:logistic' was changed from 'error' to 'logloss'. Explicitly set eval_metric if you'd like to restore the old behavior.\n"
     ]
    },
    {
     "name": "stderr",
     "output_type": "stream",
     "text": [
      "C:\\ProgramData\\Anaconda3\\lib\\site-packages\\xgboost\\sklearn.py:1224: UserWarning: The use of label encoder in XGBClassifier is deprecated and will be removed in a future release. To remove this warning, do the following: 1) Pass option use_label_encoder=False when constructing XGBClassifier object; and 2) Encode your labels (y) as integers starting with 0, i.e. 0, 1, 2, ..., [num_class - 1].\n",
      "  warnings.warn(label_encoder_deprecation_msg, UserWarning)\n"
     ]
    },
    {
     "name": "stdout",
     "output_type": "stream",
     "text": [
      "[12:28:59] WARNING: C:/Users/Administrator/workspace/xgboost-win64_release_1.5.0/src/learner.cc:1115: Starting in XGBoost 1.3.0, the default evaluation metric used with the objective 'binary:logistic' was changed from 'error' to 'logloss'. Explicitly set eval_metric if you'd like to restore the old behavior.\n"
     ]
    },
    {
     "name": "stderr",
     "output_type": "stream",
     "text": [
      "C:\\ProgramData\\Anaconda3\\lib\\site-packages\\xgboost\\sklearn.py:1224: UserWarning: The use of label encoder in XGBClassifier is deprecated and will be removed in a future release. To remove this warning, do the following: 1) Pass option use_label_encoder=False when constructing XGBClassifier object; and 2) Encode your labels (y) as integers starting with 0, i.e. 0, 1, 2, ..., [num_class - 1].\n",
      "  warnings.warn(label_encoder_deprecation_msg, UserWarning)\n"
     ]
    },
    {
     "name": "stdout",
     "output_type": "stream",
     "text": [
      "[12:29:23] WARNING: C:/Users/Administrator/workspace/xgboost-win64_release_1.5.0/src/learner.cc:1115: Starting in XGBoost 1.3.0, the default evaluation metric used with the objective 'binary:logistic' was changed from 'error' to 'logloss'. Explicitly set eval_metric if you'd like to restore the old behavior.\n"
     ]
    },
    {
     "name": "stderr",
     "output_type": "stream",
     "text": [
      "C:\\ProgramData\\Anaconda3\\lib\\site-packages\\xgboost\\sklearn.py:1224: UserWarning: The use of label encoder in XGBClassifier is deprecated and will be removed in a future release. To remove this warning, do the following: 1) Pass option use_label_encoder=False when constructing XGBClassifier object; and 2) Encode your labels (y) as integers starting with 0, i.e. 0, 1, 2, ..., [num_class - 1].\n",
      "  warnings.warn(label_encoder_deprecation_msg, UserWarning)\n"
     ]
    },
    {
     "name": "stdout",
     "output_type": "stream",
     "text": [
      "[12:29:50] WARNING: C:/Users/Administrator/workspace/xgboost-win64_release_1.5.0/src/learner.cc:1115: Starting in XGBoost 1.3.0, the default evaluation metric used with the objective 'binary:logistic' was changed from 'error' to 'logloss'. Explicitly set eval_metric if you'd like to restore the old behavior.\n"
     ]
    },
    {
     "name": "stderr",
     "output_type": "stream",
     "text": [
      "C:\\ProgramData\\Anaconda3\\lib\\site-packages\\xgboost\\sklearn.py:1224: UserWarning: The use of label encoder in XGBClassifier is deprecated and will be removed in a future release. To remove this warning, do the following: 1) Pass option use_label_encoder=False when constructing XGBClassifier object; and 2) Encode your labels (y) as integers starting with 0, i.e. 0, 1, 2, ..., [num_class - 1].\n",
      "  warnings.warn(label_encoder_deprecation_msg, UserWarning)\n"
     ]
    },
    {
     "name": "stdout",
     "output_type": "stream",
     "text": [
      "[12:30:16] WARNING: C:/Users/Administrator/workspace/xgboost-win64_release_1.5.0/src/learner.cc:1115: Starting in XGBoost 1.3.0, the default evaluation metric used with the objective 'binary:logistic' was changed from 'error' to 'logloss'. Explicitly set eval_metric if you'd like to restore the old behavior.\n"
     ]
    },
    {
     "name": "stderr",
     "output_type": "stream",
     "text": [
      "C:\\ProgramData\\Anaconda3\\lib\\site-packages\\xgboost\\sklearn.py:1224: UserWarning: The use of label encoder in XGBClassifier is deprecated and will be removed in a future release. To remove this warning, do the following: 1) Pass option use_label_encoder=False when constructing XGBClassifier object; and 2) Encode your labels (y) as integers starting with 0, i.e. 0, 1, 2, ..., [num_class - 1].\n",
      "  warnings.warn(label_encoder_deprecation_msg, UserWarning)\n"
     ]
    },
    {
     "name": "stdout",
     "output_type": "stream",
     "text": [
      "[12:30:55] WARNING: C:/Users/Administrator/workspace/xgboost-win64_release_1.5.0/src/learner.cc:1115: Starting in XGBoost 1.3.0, the default evaluation metric used with the objective 'binary:logistic' was changed from 'error' to 'logloss'. Explicitly set eval_metric if you'd like to restore the old behavior.\n"
     ]
    },
    {
     "name": "stderr",
     "output_type": "stream",
     "text": [
      "C:\\ProgramData\\Anaconda3\\lib\\site-packages\\xgboost\\sklearn.py:1224: UserWarning: The use of label encoder in XGBClassifier is deprecated and will be removed in a future release. To remove this warning, do the following: 1) Pass option use_label_encoder=False when constructing XGBClassifier object; and 2) Encode your labels (y) as integers starting with 0, i.e. 0, 1, 2, ..., [num_class - 1].\n",
      "  warnings.warn(label_encoder_deprecation_msg, UserWarning)\n"
     ]
    },
    {
     "name": "stdout",
     "output_type": "stream",
     "text": [
      "[12:31:33] WARNING: C:/Users/Administrator/workspace/xgboost-win64_release_1.5.0/src/learner.cc:1115: Starting in XGBoost 1.3.0, the default evaluation metric used with the objective 'binary:logistic' was changed from 'error' to 'logloss'. Explicitly set eval_metric if you'd like to restore the old behavior.\n"
     ]
    },
    {
     "name": "stderr",
     "output_type": "stream",
     "text": [
      "C:\\ProgramData\\Anaconda3\\lib\\site-packages\\xgboost\\sklearn.py:1224: UserWarning: The use of label encoder in XGBClassifier is deprecated and will be removed in a future release. To remove this warning, do the following: 1) Pass option use_label_encoder=False when constructing XGBClassifier object; and 2) Encode your labels (y) as integers starting with 0, i.e. 0, 1, 2, ..., [num_class - 1].\n",
      "  warnings.warn(label_encoder_deprecation_msg, UserWarning)\n"
     ]
    },
    {
     "name": "stdout",
     "output_type": "stream",
     "text": [
      "[12:32:05] WARNING: C:/Users/Administrator/workspace/xgboost-win64_release_1.5.0/src/learner.cc:1115: Starting in XGBoost 1.3.0, the default evaluation metric used with the objective 'binary:logistic' was changed from 'error' to 'logloss'. Explicitly set eval_metric if you'd like to restore the old behavior.\n"
     ]
    },
    {
     "name": "stderr",
     "output_type": "stream",
     "text": [
      "C:\\ProgramData\\Anaconda3\\lib\\site-packages\\xgboost\\sklearn.py:1224: UserWarning: The use of label encoder in XGBClassifier is deprecated and will be removed in a future release. To remove this warning, do the following: 1) Pass option use_label_encoder=False when constructing XGBClassifier object; and 2) Encode your labels (y) as integers starting with 0, i.e. 0, 1, 2, ..., [num_class - 1].\n",
      "  warnings.warn(label_encoder_deprecation_msg, UserWarning)\n"
     ]
    },
    {
     "name": "stdout",
     "output_type": "stream",
     "text": [
      "[12:32:40] WARNING: C:/Users/Administrator/workspace/xgboost-win64_release_1.5.0/src/learner.cc:1115: Starting in XGBoost 1.3.0, the default evaluation metric used with the objective 'binary:logistic' was changed from 'error' to 'logloss'. Explicitly set eval_metric if you'd like to restore the old behavior.\n"
     ]
    },
    {
     "name": "stderr",
     "output_type": "stream",
     "text": [
      "C:\\ProgramData\\Anaconda3\\lib\\site-packages\\xgboost\\sklearn.py:1224: UserWarning: The use of label encoder in XGBClassifier is deprecated and will be removed in a future release. To remove this warning, do the following: 1) Pass option use_label_encoder=False when constructing XGBClassifier object; and 2) Encode your labels (y) as integers starting with 0, i.e. 0, 1, 2, ..., [num_class - 1].\n",
      "  warnings.warn(label_encoder_deprecation_msg, UserWarning)\n"
     ]
    },
    {
     "name": "stdout",
     "output_type": "stream",
     "text": [
      "[12:33:16] WARNING: C:/Users/Administrator/workspace/xgboost-win64_release_1.5.0/src/learner.cc:1115: Starting in XGBoost 1.3.0, the default evaluation metric used with the objective 'binary:logistic' was changed from 'error' to 'logloss'. Explicitly set eval_metric if you'd like to restore the old behavior.\n"
     ]
    },
    {
     "name": "stderr",
     "output_type": "stream",
     "text": [
      "C:\\ProgramData\\Anaconda3\\lib\\site-packages\\xgboost\\sklearn.py:1224: UserWarning: The use of label encoder in XGBClassifier is deprecated and will be removed in a future release. To remove this warning, do the following: 1) Pass option use_label_encoder=False when constructing XGBClassifier object; and 2) Encode your labels (y) as integers starting with 0, i.e. 0, 1, 2, ..., [num_class - 1].\n",
      "  warnings.warn(label_encoder_deprecation_msg, UserWarning)\n"
     ]
    },
    {
     "name": "stdout",
     "output_type": "stream",
     "text": [
      "[12:33:54] WARNING: C:/Users/Administrator/workspace/xgboost-win64_release_1.5.0/src/learner.cc:1115: Starting in XGBoost 1.3.0, the default evaluation metric used with the objective 'binary:logistic' was changed from 'error' to 'logloss'. Explicitly set eval_metric if you'd like to restore the old behavior.\n"
     ]
    },
    {
     "name": "stderr",
     "output_type": "stream",
     "text": [
      "C:\\ProgramData\\Anaconda3\\lib\\site-packages\\xgboost\\sklearn.py:1224: UserWarning: The use of label encoder in XGBClassifier is deprecated and will be removed in a future release. To remove this warning, do the following: 1) Pass option use_label_encoder=False when constructing XGBClassifier object; and 2) Encode your labels (y) as integers starting with 0, i.e. 0, 1, 2, ..., [num_class - 1].\n",
      "  warnings.warn(label_encoder_deprecation_msg, UserWarning)\n"
     ]
    },
    {
     "name": "stdout",
     "output_type": "stream",
     "text": [
      "[12:34:37] WARNING: C:/Users/Administrator/workspace/xgboost-win64_release_1.5.0/src/learner.cc:1115: Starting in XGBoost 1.3.0, the default evaluation metric used with the objective 'binary:logistic' was changed from 'error' to 'logloss'. Explicitly set eval_metric if you'd like to restore the old behavior.\n"
     ]
    },
    {
     "name": "stderr",
     "output_type": "stream",
     "text": [
      "C:\\ProgramData\\Anaconda3\\lib\\site-packages\\xgboost\\sklearn.py:1224: UserWarning: The use of label encoder in XGBClassifier is deprecated and will be removed in a future release. To remove this warning, do the following: 1) Pass option use_label_encoder=False when constructing XGBClassifier object; and 2) Encode your labels (y) as integers starting with 0, i.e. 0, 1, 2, ..., [num_class - 1].\n",
      "  warnings.warn(label_encoder_deprecation_msg, UserWarning)\n"
     ]
    },
    {
     "name": "stdout",
     "output_type": "stream",
     "text": [
      "[12:35:14] WARNING: C:/Users/Administrator/workspace/xgboost-win64_release_1.5.0/src/learner.cc:1115: Starting in XGBoost 1.3.0, the default evaluation metric used with the objective 'binary:logistic' was changed from 'error' to 'logloss'. Explicitly set eval_metric if you'd like to restore the old behavior.\n"
     ]
    },
    {
     "name": "stderr",
     "output_type": "stream",
     "text": [
      "C:\\ProgramData\\Anaconda3\\lib\\site-packages\\xgboost\\sklearn.py:1224: UserWarning: The use of label encoder in XGBClassifier is deprecated and will be removed in a future release. To remove this warning, do the following: 1) Pass option use_label_encoder=False when constructing XGBClassifier object; and 2) Encode your labels (y) as integers starting with 0, i.e. 0, 1, 2, ..., [num_class - 1].\n",
      "  warnings.warn(label_encoder_deprecation_msg, UserWarning)\n"
     ]
    },
    {
     "name": "stdout",
     "output_type": "stream",
     "text": [
      "[12:35:52] WARNING: C:/Users/Administrator/workspace/xgboost-win64_release_1.5.0/src/learner.cc:1115: Starting in XGBoost 1.3.0, the default evaluation metric used with the objective 'binary:logistic' was changed from 'error' to 'logloss'. Explicitly set eval_metric if you'd like to restore the old behavior.\n"
     ]
    },
    {
     "name": "stderr",
     "output_type": "stream",
     "text": [
      "C:\\ProgramData\\Anaconda3\\lib\\site-packages\\xgboost\\sklearn.py:1224: UserWarning: The use of label encoder in XGBClassifier is deprecated and will be removed in a future release. To remove this warning, do the following: 1) Pass option use_label_encoder=False when constructing XGBClassifier object; and 2) Encode your labels (y) as integers starting with 0, i.e. 0, 1, 2, ..., [num_class - 1].\n",
      "  warnings.warn(label_encoder_deprecation_msg, UserWarning)\n"
     ]
    },
    {
     "name": "stdout",
     "output_type": "stream",
     "text": [
      "[12:36:30] WARNING: C:/Users/Administrator/workspace/xgboost-win64_release_1.5.0/src/learner.cc:1115: Starting in XGBoost 1.3.0, the default evaluation metric used with the objective 'binary:logistic' was changed from 'error' to 'logloss'. Explicitly set eval_metric if you'd like to restore the old behavior.\n"
     ]
    },
    {
     "name": "stderr",
     "output_type": "stream",
     "text": [
      "C:\\ProgramData\\Anaconda3\\lib\\site-packages\\xgboost\\sklearn.py:1224: UserWarning: The use of label encoder in XGBClassifier is deprecated and will be removed in a future release. To remove this warning, do the following: 1) Pass option use_label_encoder=False when constructing XGBClassifier object; and 2) Encode your labels (y) as integers starting with 0, i.e. 0, 1, 2, ..., [num_class - 1].\n",
      "  warnings.warn(label_encoder_deprecation_msg, UserWarning)\n"
     ]
    },
    {
     "name": "stdout",
     "output_type": "stream",
     "text": [
      "[12:36:38] WARNING: C:/Users/Administrator/workspace/xgboost-win64_release_1.5.0/src/learner.cc:1115: Starting in XGBoost 1.3.0, the default evaluation metric used with the objective 'binary:logistic' was changed from 'error' to 'logloss'. Explicitly set eval_metric if you'd like to restore the old behavior.\n"
     ]
    },
    {
     "name": "stderr",
     "output_type": "stream",
     "text": [
      "C:\\ProgramData\\Anaconda3\\lib\\site-packages\\xgboost\\sklearn.py:1224: UserWarning: The use of label encoder in XGBClassifier is deprecated and will be removed in a future release. To remove this warning, do the following: 1) Pass option use_label_encoder=False when constructing XGBClassifier object; and 2) Encode your labels (y) as integers starting with 0, i.e. 0, 1, 2, ..., [num_class - 1].\n",
      "  warnings.warn(label_encoder_deprecation_msg, UserWarning)\n"
     ]
    },
    {
     "name": "stdout",
     "output_type": "stream",
     "text": [
      "[12:36:46] WARNING: C:/Users/Administrator/workspace/xgboost-win64_release_1.5.0/src/learner.cc:1115: Starting in XGBoost 1.3.0, the default evaluation metric used with the objective 'binary:logistic' was changed from 'error' to 'logloss'. Explicitly set eval_metric if you'd like to restore the old behavior.\n"
     ]
    },
    {
     "name": "stderr",
     "output_type": "stream",
     "text": [
      "C:\\ProgramData\\Anaconda3\\lib\\site-packages\\xgboost\\sklearn.py:1224: UserWarning: The use of label encoder in XGBClassifier is deprecated and will be removed in a future release. To remove this warning, do the following: 1) Pass option use_label_encoder=False when constructing XGBClassifier object; and 2) Encode your labels (y) as integers starting with 0, i.e. 0, 1, 2, ..., [num_class - 1].\n",
      "  warnings.warn(label_encoder_deprecation_msg, UserWarning)\n"
     ]
    },
    {
     "name": "stdout",
     "output_type": "stream",
     "text": [
      "[12:36:55] WARNING: C:/Users/Administrator/workspace/xgboost-win64_release_1.5.0/src/learner.cc:1115: Starting in XGBoost 1.3.0, the default evaluation metric used with the objective 'binary:logistic' was changed from 'error' to 'logloss'. Explicitly set eval_metric if you'd like to restore the old behavior.\n"
     ]
    },
    {
     "name": "stderr",
     "output_type": "stream",
     "text": [
      "C:\\ProgramData\\Anaconda3\\lib\\site-packages\\xgboost\\sklearn.py:1224: UserWarning: The use of label encoder in XGBClassifier is deprecated and will be removed in a future release. To remove this warning, do the following: 1) Pass option use_label_encoder=False when constructing XGBClassifier object; and 2) Encode your labels (y) as integers starting with 0, i.e. 0, 1, 2, ..., [num_class - 1].\n",
      "  warnings.warn(label_encoder_deprecation_msg, UserWarning)\n"
     ]
    },
    {
     "name": "stdout",
     "output_type": "stream",
     "text": [
      "[12:37:02] WARNING: C:/Users/Administrator/workspace/xgboost-win64_release_1.5.0/src/learner.cc:1115: Starting in XGBoost 1.3.0, the default evaluation metric used with the objective 'binary:logistic' was changed from 'error' to 'logloss'. Explicitly set eval_metric if you'd like to restore the old behavior.\n"
     ]
    },
    {
     "name": "stderr",
     "output_type": "stream",
     "text": [
      "C:\\ProgramData\\Anaconda3\\lib\\site-packages\\xgboost\\sklearn.py:1224: UserWarning: The use of label encoder in XGBClassifier is deprecated and will be removed in a future release. To remove this warning, do the following: 1) Pass option use_label_encoder=False when constructing XGBClassifier object; and 2) Encode your labels (y) as integers starting with 0, i.e. 0, 1, 2, ..., [num_class - 1].\n",
      "  warnings.warn(label_encoder_deprecation_msg, UserWarning)\n"
     ]
    },
    {
     "name": "stdout",
     "output_type": "stream",
     "text": [
      "[12:37:10] WARNING: C:/Users/Administrator/workspace/xgboost-win64_release_1.5.0/src/learner.cc:1115: Starting in XGBoost 1.3.0, the default evaluation metric used with the objective 'binary:logistic' was changed from 'error' to 'logloss'. Explicitly set eval_metric if you'd like to restore the old behavior.\n"
     ]
    },
    {
     "name": "stderr",
     "output_type": "stream",
     "text": [
      "C:\\ProgramData\\Anaconda3\\lib\\site-packages\\xgboost\\sklearn.py:1224: UserWarning: The use of label encoder in XGBClassifier is deprecated and will be removed in a future release. To remove this warning, do the following: 1) Pass option use_label_encoder=False when constructing XGBClassifier object; and 2) Encode your labels (y) as integers starting with 0, i.e. 0, 1, 2, ..., [num_class - 1].\n",
      "  warnings.warn(label_encoder_deprecation_msg, UserWarning)\n"
     ]
    },
    {
     "name": "stdout",
     "output_type": "stream",
     "text": [
      "[12:37:16] WARNING: C:/Users/Administrator/workspace/xgboost-win64_release_1.5.0/src/learner.cc:1115: Starting in XGBoost 1.3.0, the default evaluation metric used with the objective 'binary:logistic' was changed from 'error' to 'logloss'. Explicitly set eval_metric if you'd like to restore the old behavior.\n"
     ]
    },
    {
     "name": "stderr",
     "output_type": "stream",
     "text": [
      "C:\\ProgramData\\Anaconda3\\lib\\site-packages\\xgboost\\sklearn.py:1224: UserWarning: The use of label encoder in XGBClassifier is deprecated and will be removed in a future release. To remove this warning, do the following: 1) Pass option use_label_encoder=False when constructing XGBClassifier object; and 2) Encode your labels (y) as integers starting with 0, i.e. 0, 1, 2, ..., [num_class - 1].\n",
      "  warnings.warn(label_encoder_deprecation_msg, UserWarning)\n"
     ]
    },
    {
     "name": "stdout",
     "output_type": "stream",
     "text": [
      "[12:37:21] WARNING: C:/Users/Administrator/workspace/xgboost-win64_release_1.5.0/src/learner.cc:1115: Starting in XGBoost 1.3.0, the default evaluation metric used with the objective 'binary:logistic' was changed from 'error' to 'logloss'. Explicitly set eval_metric if you'd like to restore the old behavior.\n"
     ]
    },
    {
     "name": "stderr",
     "output_type": "stream",
     "text": [
      "C:\\ProgramData\\Anaconda3\\lib\\site-packages\\xgboost\\sklearn.py:1224: UserWarning: The use of label encoder in XGBClassifier is deprecated and will be removed in a future release. To remove this warning, do the following: 1) Pass option use_label_encoder=False when constructing XGBClassifier object; and 2) Encode your labels (y) as integers starting with 0, i.e. 0, 1, 2, ..., [num_class - 1].\n",
      "  warnings.warn(label_encoder_deprecation_msg, UserWarning)\n"
     ]
    },
    {
     "name": "stdout",
     "output_type": "stream",
     "text": [
      "[12:37:27] WARNING: C:/Users/Administrator/workspace/xgboost-win64_release_1.5.0/src/learner.cc:1115: Starting in XGBoost 1.3.0, the default evaluation metric used with the objective 'binary:logistic' was changed from 'error' to 'logloss'. Explicitly set eval_metric if you'd like to restore the old behavior.\n"
     ]
    },
    {
     "name": "stderr",
     "output_type": "stream",
     "text": [
      "C:\\ProgramData\\Anaconda3\\lib\\site-packages\\xgboost\\sklearn.py:1224: UserWarning: The use of label encoder in XGBClassifier is deprecated and will be removed in a future release. To remove this warning, do the following: 1) Pass option use_label_encoder=False when constructing XGBClassifier object; and 2) Encode your labels (y) as integers starting with 0, i.e. 0, 1, 2, ..., [num_class - 1].\n",
      "  warnings.warn(label_encoder_deprecation_msg, UserWarning)\n"
     ]
    },
    {
     "name": "stdout",
     "output_type": "stream",
     "text": [
      "[12:37:33] WARNING: C:/Users/Administrator/workspace/xgboost-win64_release_1.5.0/src/learner.cc:1115: Starting in XGBoost 1.3.0, the default evaluation metric used with the objective 'binary:logistic' was changed from 'error' to 'logloss'. Explicitly set eval_metric if you'd like to restore the old behavior.\n"
     ]
    },
    {
     "name": "stderr",
     "output_type": "stream",
     "text": [
      "C:\\ProgramData\\Anaconda3\\lib\\site-packages\\xgboost\\sklearn.py:1224: UserWarning: The use of label encoder in XGBClassifier is deprecated and will be removed in a future release. To remove this warning, do the following: 1) Pass option use_label_encoder=False when constructing XGBClassifier object; and 2) Encode your labels (y) as integers starting with 0, i.e. 0, 1, 2, ..., [num_class - 1].\n",
      "  warnings.warn(label_encoder_deprecation_msg, UserWarning)\n"
     ]
    },
    {
     "name": "stdout",
     "output_type": "stream",
     "text": [
      "[12:37:39] WARNING: C:/Users/Administrator/workspace/xgboost-win64_release_1.5.0/src/learner.cc:1115: Starting in XGBoost 1.3.0, the default evaluation metric used with the objective 'binary:logistic' was changed from 'error' to 'logloss'. Explicitly set eval_metric if you'd like to restore the old behavior.\n"
     ]
    },
    {
     "name": "stderr",
     "output_type": "stream",
     "text": [
      "C:\\ProgramData\\Anaconda3\\lib\\site-packages\\xgboost\\sklearn.py:1224: UserWarning: The use of label encoder in XGBClassifier is deprecated and will be removed in a future release. To remove this warning, do the following: 1) Pass option use_label_encoder=False when constructing XGBClassifier object; and 2) Encode your labels (y) as integers starting with 0, i.e. 0, 1, 2, ..., [num_class - 1].\n",
      "  warnings.warn(label_encoder_deprecation_msg, UserWarning)\n"
     ]
    },
    {
     "name": "stdout",
     "output_type": "stream",
     "text": [
      "[12:38:35] WARNING: C:/Users/Administrator/workspace/xgboost-win64_release_1.5.0/src/learner.cc:1115: Starting in XGBoost 1.3.0, the default evaluation metric used with the objective 'binary:logistic' was changed from 'error' to 'logloss'. Explicitly set eval_metric if you'd like to restore the old behavior.\n"
     ]
    },
    {
     "name": "stderr",
     "output_type": "stream",
     "text": [
      "C:\\ProgramData\\Anaconda3\\lib\\site-packages\\xgboost\\sklearn.py:1224: UserWarning: The use of label encoder in XGBClassifier is deprecated and will be removed in a future release. To remove this warning, do the following: 1) Pass option use_label_encoder=False when constructing XGBClassifier object; and 2) Encode your labels (y) as integers starting with 0, i.e. 0, 1, 2, ..., [num_class - 1].\n",
      "  warnings.warn(label_encoder_deprecation_msg, UserWarning)\n"
     ]
    },
    {
     "name": "stdout",
     "output_type": "stream",
     "text": [
      "[12:39:32] WARNING: C:/Users/Administrator/workspace/xgboost-win64_release_1.5.0/src/learner.cc:1115: Starting in XGBoost 1.3.0, the default evaluation metric used with the objective 'binary:logistic' was changed from 'error' to 'logloss'. Explicitly set eval_metric if you'd like to restore the old behavior.\n"
     ]
    },
    {
     "name": "stderr",
     "output_type": "stream",
     "text": [
      "C:\\ProgramData\\Anaconda3\\lib\\site-packages\\xgboost\\sklearn.py:1224: UserWarning: The use of label encoder in XGBClassifier is deprecated and will be removed in a future release. To remove this warning, do the following: 1) Pass option use_label_encoder=False when constructing XGBClassifier object; and 2) Encode your labels (y) as integers starting with 0, i.e. 0, 1, 2, ..., [num_class - 1].\n",
      "  warnings.warn(label_encoder_deprecation_msg, UserWarning)\n"
     ]
    },
    {
     "name": "stdout",
     "output_type": "stream",
     "text": [
      "[12:40:33] WARNING: C:/Users/Administrator/workspace/xgboost-win64_release_1.5.0/src/learner.cc:1115: Starting in XGBoost 1.3.0, the default evaluation metric used with the objective 'binary:logistic' was changed from 'error' to 'logloss'. Explicitly set eval_metric if you'd like to restore the old behavior.\n"
     ]
    },
    {
     "name": "stderr",
     "output_type": "stream",
     "text": [
      "C:\\ProgramData\\Anaconda3\\lib\\site-packages\\xgboost\\sklearn.py:1224: UserWarning: The use of label encoder in XGBClassifier is deprecated and will be removed in a future release. To remove this warning, do the following: 1) Pass option use_label_encoder=False when constructing XGBClassifier object; and 2) Encode your labels (y) as integers starting with 0, i.e. 0, 1, 2, ..., [num_class - 1].\n",
      "  warnings.warn(label_encoder_deprecation_msg, UserWarning)\n"
     ]
    },
    {
     "name": "stdout",
     "output_type": "stream",
     "text": [
      "[12:41:37] WARNING: C:/Users/Administrator/workspace/xgboost-win64_release_1.5.0/src/learner.cc:1115: Starting in XGBoost 1.3.0, the default evaluation metric used with the objective 'binary:logistic' was changed from 'error' to 'logloss'. Explicitly set eval_metric if you'd like to restore the old behavior.\n"
     ]
    },
    {
     "name": "stderr",
     "output_type": "stream",
     "text": [
      "C:\\ProgramData\\Anaconda3\\lib\\site-packages\\xgboost\\sklearn.py:1224: UserWarning: The use of label encoder in XGBClassifier is deprecated and will be removed in a future release. To remove this warning, do the following: 1) Pass option use_label_encoder=False when constructing XGBClassifier object; and 2) Encode your labels (y) as integers starting with 0, i.e. 0, 1, 2, ..., [num_class - 1].\n",
      "  warnings.warn(label_encoder_deprecation_msg, UserWarning)\n"
     ]
    },
    {
     "name": "stdout",
     "output_type": "stream",
     "text": [
      "[12:42:44] WARNING: C:/Users/Administrator/workspace/xgboost-win64_release_1.5.0/src/learner.cc:1115: Starting in XGBoost 1.3.0, the default evaluation metric used with the objective 'binary:logistic' was changed from 'error' to 'logloss'. Explicitly set eval_metric if you'd like to restore the old behavior.\n"
     ]
    },
    {
     "name": "stderr",
     "output_type": "stream",
     "text": [
      "C:\\ProgramData\\Anaconda3\\lib\\site-packages\\xgboost\\sklearn.py:1224: UserWarning: The use of label encoder in XGBClassifier is deprecated and will be removed in a future release. To remove this warning, do the following: 1) Pass option use_label_encoder=False when constructing XGBClassifier object; and 2) Encode your labels (y) as integers starting with 0, i.e. 0, 1, 2, ..., [num_class - 1].\n",
      "  warnings.warn(label_encoder_deprecation_msg, UserWarning)\n"
     ]
    },
    {
     "name": "stdout",
     "output_type": "stream",
     "text": [
      "[12:43:39] WARNING: C:/Users/Administrator/workspace/xgboost-win64_release_1.5.0/src/learner.cc:1115: Starting in XGBoost 1.3.0, the default evaluation metric used with the objective 'binary:logistic' was changed from 'error' to 'logloss'. Explicitly set eval_metric if you'd like to restore the old behavior.\n"
     ]
    },
    {
     "name": "stderr",
     "output_type": "stream",
     "text": [
      "C:\\ProgramData\\Anaconda3\\lib\\site-packages\\xgboost\\sklearn.py:1224: UserWarning: The use of label encoder in XGBClassifier is deprecated and will be removed in a future release. To remove this warning, do the following: 1) Pass option use_label_encoder=False when constructing XGBClassifier object; and 2) Encode your labels (y) as integers starting with 0, i.e. 0, 1, 2, ..., [num_class - 1].\n",
      "  warnings.warn(label_encoder_deprecation_msg, UserWarning)\n"
     ]
    },
    {
     "name": "stdout",
     "output_type": "stream",
     "text": [
      "[12:44:35] WARNING: C:/Users/Administrator/workspace/xgboost-win64_release_1.5.0/src/learner.cc:1115: Starting in XGBoost 1.3.0, the default evaluation metric used with the objective 'binary:logistic' was changed from 'error' to 'logloss'. Explicitly set eval_metric if you'd like to restore the old behavior.\n"
     ]
    },
    {
     "name": "stderr",
     "output_type": "stream",
     "text": [
      "C:\\ProgramData\\Anaconda3\\lib\\site-packages\\xgboost\\sklearn.py:1224: UserWarning: The use of label encoder in XGBClassifier is deprecated and will be removed in a future release. To remove this warning, do the following: 1) Pass option use_label_encoder=False when constructing XGBClassifier object; and 2) Encode your labels (y) as integers starting with 0, i.e. 0, 1, 2, ..., [num_class - 1].\n",
      "  warnings.warn(label_encoder_deprecation_msg, UserWarning)\n"
     ]
    },
    {
     "name": "stdout",
     "output_type": "stream",
     "text": [
      "[12:45:23] WARNING: C:/Users/Administrator/workspace/xgboost-win64_release_1.5.0/src/learner.cc:1115: Starting in XGBoost 1.3.0, the default evaluation metric used with the objective 'binary:logistic' was changed from 'error' to 'logloss'. Explicitly set eval_metric if you'd like to restore the old behavior.\n"
     ]
    },
    {
     "name": "stderr",
     "output_type": "stream",
     "text": [
      "C:\\ProgramData\\Anaconda3\\lib\\site-packages\\xgboost\\sklearn.py:1224: UserWarning: The use of label encoder in XGBClassifier is deprecated and will be removed in a future release. To remove this warning, do the following: 1) Pass option use_label_encoder=False when constructing XGBClassifier object; and 2) Encode your labels (y) as integers starting with 0, i.e. 0, 1, 2, ..., [num_class - 1].\n",
      "  warnings.warn(label_encoder_deprecation_msg, UserWarning)\n"
     ]
    },
    {
     "name": "stdout",
     "output_type": "stream",
     "text": [
      "[12:46:12] WARNING: C:/Users/Administrator/workspace/xgboost-win64_release_1.5.0/src/learner.cc:1115: Starting in XGBoost 1.3.0, the default evaluation metric used with the objective 'binary:logistic' was changed from 'error' to 'logloss'. Explicitly set eval_metric if you'd like to restore the old behavior.\n"
     ]
    },
    {
     "name": "stderr",
     "output_type": "stream",
     "text": [
      "C:\\ProgramData\\Anaconda3\\lib\\site-packages\\xgboost\\sklearn.py:1224: UserWarning: The use of label encoder in XGBClassifier is deprecated and will be removed in a future release. To remove this warning, do the following: 1) Pass option use_label_encoder=False when constructing XGBClassifier object; and 2) Encode your labels (y) as integers starting with 0, i.e. 0, 1, 2, ..., [num_class - 1].\n",
      "  warnings.warn(label_encoder_deprecation_msg, UserWarning)\n"
     ]
    },
    {
     "name": "stdout",
     "output_type": "stream",
     "text": [
      "[12:47:01] WARNING: C:/Users/Administrator/workspace/xgboost-win64_release_1.5.0/src/learner.cc:1115: Starting in XGBoost 1.3.0, the default evaluation metric used with the objective 'binary:logistic' was changed from 'error' to 'logloss'. Explicitly set eval_metric if you'd like to restore the old behavior.\n"
     ]
    },
    {
     "name": "stderr",
     "output_type": "stream",
     "text": [
      "C:\\ProgramData\\Anaconda3\\lib\\site-packages\\xgboost\\sklearn.py:1224: UserWarning: The use of label encoder in XGBClassifier is deprecated and will be removed in a future release. To remove this warning, do the following: 1) Pass option use_label_encoder=False when constructing XGBClassifier object; and 2) Encode your labels (y) as integers starting with 0, i.e. 0, 1, 2, ..., [num_class - 1].\n",
      "  warnings.warn(label_encoder_deprecation_msg, UserWarning)\n"
     ]
    },
    {
     "name": "stdout",
     "output_type": "stream",
     "text": [
      "[12:47:36] WARNING: C:/Users/Administrator/workspace/xgboost-win64_release_1.5.0/src/learner.cc:1115: Starting in XGBoost 1.3.0, the default evaluation metric used with the objective 'binary:logistic' was changed from 'error' to 'logloss'. Explicitly set eval_metric if you'd like to restore the old behavior.\n"
     ]
    },
    {
     "name": "stderr",
     "output_type": "stream",
     "text": [
      "C:\\ProgramData\\Anaconda3\\lib\\site-packages\\xgboost\\sklearn.py:1224: UserWarning: The use of label encoder in XGBClassifier is deprecated and will be removed in a future release. To remove this warning, do the following: 1) Pass option use_label_encoder=False when constructing XGBClassifier object; and 2) Encode your labels (y) as integers starting with 0, i.e. 0, 1, 2, ..., [num_class - 1].\n",
      "  warnings.warn(label_encoder_deprecation_msg, UserWarning)\n"
     ]
    },
    {
     "name": "stdout",
     "output_type": "stream",
     "text": [
      "[12:48:13] WARNING: C:/Users/Administrator/workspace/xgboost-win64_release_1.5.0/src/learner.cc:1115: Starting in XGBoost 1.3.0, the default evaluation metric used with the objective 'binary:logistic' was changed from 'error' to 'logloss'. Explicitly set eval_metric if you'd like to restore the old behavior.\n"
     ]
    },
    {
     "name": "stderr",
     "output_type": "stream",
     "text": [
      "C:\\ProgramData\\Anaconda3\\lib\\site-packages\\xgboost\\sklearn.py:1224: UserWarning: The use of label encoder in XGBClassifier is deprecated and will be removed in a future release. To remove this warning, do the following: 1) Pass option use_label_encoder=False when constructing XGBClassifier object; and 2) Encode your labels (y) as integers starting with 0, i.e. 0, 1, 2, ..., [num_class - 1].\n",
      "  warnings.warn(label_encoder_deprecation_msg, UserWarning)\n"
     ]
    },
    {
     "name": "stdout",
     "output_type": "stream",
     "text": [
      "[12:48:49] WARNING: C:/Users/Administrator/workspace/xgboost-win64_release_1.5.0/src/learner.cc:1115: Starting in XGBoost 1.3.0, the default evaluation metric used with the objective 'binary:logistic' was changed from 'error' to 'logloss'. Explicitly set eval_metric if you'd like to restore the old behavior.\n"
     ]
    },
    {
     "name": "stderr",
     "output_type": "stream",
     "text": [
      "C:\\ProgramData\\Anaconda3\\lib\\site-packages\\xgboost\\sklearn.py:1224: UserWarning: The use of label encoder in XGBClassifier is deprecated and will be removed in a future release. To remove this warning, do the following: 1) Pass option use_label_encoder=False when constructing XGBClassifier object; and 2) Encode your labels (y) as integers starting with 0, i.e. 0, 1, 2, ..., [num_class - 1].\n",
      "  warnings.warn(label_encoder_deprecation_msg, UserWarning)\n"
     ]
    },
    {
     "name": "stdout",
     "output_type": "stream",
     "text": [
      "[12:49:26] WARNING: C:/Users/Administrator/workspace/xgboost-win64_release_1.5.0/src/learner.cc:1115: Starting in XGBoost 1.3.0, the default evaluation metric used with the objective 'binary:logistic' was changed from 'error' to 'logloss'. Explicitly set eval_metric if you'd like to restore the old behavior.\n"
     ]
    },
    {
     "name": "stderr",
     "output_type": "stream",
     "text": [
      "C:\\ProgramData\\Anaconda3\\lib\\site-packages\\xgboost\\sklearn.py:1224: UserWarning: The use of label encoder in XGBClassifier is deprecated and will be removed in a future release. To remove this warning, do the following: 1) Pass option use_label_encoder=False when constructing XGBClassifier object; and 2) Encode your labels (y) as integers starting with 0, i.e. 0, 1, 2, ..., [num_class - 1].\n",
      "  warnings.warn(label_encoder_deprecation_msg, UserWarning)\n"
     ]
    },
    {
     "name": "stdout",
     "output_type": "stream",
     "text": [
      "[12:50:02] WARNING: C:/Users/Administrator/workspace/xgboost-win64_release_1.5.0/src/learner.cc:1115: Starting in XGBoost 1.3.0, the default evaluation metric used with the objective 'binary:logistic' was changed from 'error' to 'logloss'. Explicitly set eval_metric if you'd like to restore the old behavior.\n"
     ]
    },
    {
     "name": "stderr",
     "output_type": "stream",
     "text": [
      "C:\\ProgramData\\Anaconda3\\lib\\site-packages\\xgboost\\sklearn.py:1224: UserWarning: The use of label encoder in XGBClassifier is deprecated and will be removed in a future release. To remove this warning, do the following: 1) Pass option use_label_encoder=False when constructing XGBClassifier object; and 2) Encode your labels (y) as integers starting with 0, i.e. 0, 1, 2, ..., [num_class - 1].\n",
      "  warnings.warn(label_encoder_deprecation_msg, UserWarning)\n"
     ]
    },
    {
     "name": "stdout",
     "output_type": "stream",
     "text": [
      "[12:51:06] WARNING: C:/Users/Administrator/workspace/xgboost-win64_release_1.5.0/src/learner.cc:1115: Starting in XGBoost 1.3.0, the default evaluation metric used with the objective 'binary:logistic' was changed from 'error' to 'logloss'. Explicitly set eval_metric if you'd like to restore the old behavior.\n"
     ]
    },
    {
     "name": "stderr",
     "output_type": "stream",
     "text": [
      "C:\\ProgramData\\Anaconda3\\lib\\site-packages\\xgboost\\sklearn.py:1224: UserWarning: The use of label encoder in XGBClassifier is deprecated and will be removed in a future release. To remove this warning, do the following: 1) Pass option use_label_encoder=False when constructing XGBClassifier object; and 2) Encode your labels (y) as integers starting with 0, i.e. 0, 1, 2, ..., [num_class - 1].\n",
      "  warnings.warn(label_encoder_deprecation_msg, UserWarning)\n"
     ]
    },
    {
     "name": "stdout",
     "output_type": "stream",
     "text": [
      "[12:52:09] WARNING: C:/Users/Administrator/workspace/xgboost-win64_release_1.5.0/src/learner.cc:1115: Starting in XGBoost 1.3.0, the default evaluation metric used with the objective 'binary:logistic' was changed from 'error' to 'logloss'. Explicitly set eval_metric if you'd like to restore the old behavior.\n"
     ]
    },
    {
     "name": "stderr",
     "output_type": "stream",
     "text": [
      "C:\\ProgramData\\Anaconda3\\lib\\site-packages\\xgboost\\sklearn.py:1224: UserWarning: The use of label encoder in XGBClassifier is deprecated and will be removed in a future release. To remove this warning, do the following: 1) Pass option use_label_encoder=False when constructing XGBClassifier object; and 2) Encode your labels (y) as integers starting with 0, i.e. 0, 1, 2, ..., [num_class - 1].\n",
      "  warnings.warn(label_encoder_deprecation_msg, UserWarning)\n"
     ]
    },
    {
     "name": "stdout",
     "output_type": "stream",
     "text": [
      "[12:53:13] WARNING: C:/Users/Administrator/workspace/xgboost-win64_release_1.5.0/src/learner.cc:1115: Starting in XGBoost 1.3.0, the default evaluation metric used with the objective 'binary:logistic' was changed from 'error' to 'logloss'. Explicitly set eval_metric if you'd like to restore the old behavior.\n"
     ]
    },
    {
     "name": "stderr",
     "output_type": "stream",
     "text": [
      "C:\\ProgramData\\Anaconda3\\lib\\site-packages\\xgboost\\sklearn.py:1224: UserWarning: The use of label encoder in XGBClassifier is deprecated and will be removed in a future release. To remove this warning, do the following: 1) Pass option use_label_encoder=False when constructing XGBClassifier object; and 2) Encode your labels (y) as integers starting with 0, i.e. 0, 1, 2, ..., [num_class - 1].\n",
      "  warnings.warn(label_encoder_deprecation_msg, UserWarning)\n"
     ]
    },
    {
     "name": "stdout",
     "output_type": "stream",
     "text": [
      "[12:54:26] WARNING: C:/Users/Administrator/workspace/xgboost-win64_release_1.5.0/src/learner.cc:1115: Starting in XGBoost 1.3.0, the default evaluation metric used with the objective 'binary:logistic' was changed from 'error' to 'logloss'. Explicitly set eval_metric if you'd like to restore the old behavior.\n"
     ]
    },
    {
     "name": "stderr",
     "output_type": "stream",
     "text": [
      "C:\\ProgramData\\Anaconda3\\lib\\site-packages\\xgboost\\sklearn.py:1224: UserWarning: The use of label encoder in XGBClassifier is deprecated and will be removed in a future release. To remove this warning, do the following: 1) Pass option use_label_encoder=False when constructing XGBClassifier object; and 2) Encode your labels (y) as integers starting with 0, i.e. 0, 1, 2, ..., [num_class - 1].\n",
      "  warnings.warn(label_encoder_deprecation_msg, UserWarning)\n"
     ]
    },
    {
     "name": "stdout",
     "output_type": "stream",
     "text": [
      "[12:55:33] WARNING: C:/Users/Administrator/workspace/xgboost-win64_release_1.5.0/src/learner.cc:1115: Starting in XGBoost 1.3.0, the default evaluation metric used with the objective 'binary:logistic' was changed from 'error' to 'logloss'. Explicitly set eval_metric if you'd like to restore the old behavior.\n"
     ]
    },
    {
     "data": {
      "text/plain": [
       "RandomizedSearchCV(cv=5, error_score='raise-deprecating',\n",
       "          estimator=XGBClassifier(base_score=None, booster=None, colsample_bylevel=None,\n",
       "       colsample_bynode=None, colsample_bytree=0.85,\n",
       "       enable_categorical=False, gamma=None, gpu_id=None,\n",
       "       importance_type=None, interaction_constraints=None,\n",
       "       learning_rate=None, max_delta_step=None, max...mple=0.8, tree_method=None, use_label_encoder=True,\n",
       "       validate_parameters=None, verbosity=None),\n",
       "          fit_params=None, iid='warn', n_iter=10, n_jobs=None,\n",
       "          param_distributions={'n_estimators': <scipy.stats._distn_infrastructure.rv_frozen object at 0x0000024180FE2588>, 'max_depth': <scipy.stats._distn_infrastructure.rv_frozen object at 0x0000024180FE24E0>},\n",
       "          pre_dispatch='2*n_jobs', random_state=1, refit=True,\n",
       "          return_train_score='warn', scoring='roc_auc', verbose=0)"
      ]
     },
     "execution_count": 117,
     "metadata": {},
     "output_type": "execute_result"
    }
   ],
   "source": [
    "from sklearn.model_selection import GridSearchCV, RandomizedSearchCV\n",
    "from xgboost import XGBClassifier  # wrapper\n",
    "import scipy.stats as st\n",
    "\n",
    "params_sk = {\n",
    "    'objective': 'binary:logistic',\n",
    "    'subsample': 0.8,\n",
    "    'colsample_bytree': 0.85,\n",
    "    'seed': 42}\n",
    "\n",
    "skrg = XGBClassifier(**params_sk)\n",
    "\n",
    "\n",
    "params_grid = {\"n_estimators\": st.randint(50, 500),\n",
    "               'max_depth': st.randint(5, 30)\n",
    "               }\n",
    "search_sk = RandomizedSearchCV(skrg, params_grid, cv=5, scoring='roc_auc', random_state=1, n_iter=10)  # 5 fold cross validation\n",
    "search_sk.fit(xtrain, Y)"
   ]
  },
  {
   "cell_type": "code",
   "execution_count": 118,
   "metadata": {},
   "outputs": [
    {
     "name": "stdout",
     "output_type": "stream",
     "text": [
      "best parameters: {'max_depth': 5, 'n_estimators': 194}\n",
      "best score: 0.7008872657150975\n"
     ]
    }
   ],
   "source": [
    "# best parameters\n",
    "print(\"best parameters:\", search_sk.best_params_)\n",
    "print(\"best score:\", search_sk.best_score_)"
   ]
  },
  {
   "cell_type": "code",
   "execution_count": 119,
   "metadata": {},
   "outputs": [],
   "source": [
    "import xgboost as xgb\n",
    "import operator\n",
    "\n",
    "test_ratio = 0.2\n",
    "X_train, X_val, y_train, y_val = train_test_split(xtrain, Y, test_size=test_ratio,random_state=42)\n",
    "\n",
    "dtrain = xgb.DMatrix(X_train, y_train)\n",
    "dval = xgb.DMatrix(X_val, y_val)\n",
    "\n",
    "watchlist = [(dtrain, 'train'), (dval, 'validate')]\n",
    "early_stop = 20"
   ]
  },
  {
   "cell_type": "code",
   "execution_count": 120,
   "metadata": {},
   "outputs": [
    {
     "name": "stdout",
     "output_type": "stream",
     "text": [
      "[12:56:29] WARNING: C:/Users/Administrator/workspace/xgboost-win64_release_1.5.0/src/learner.cc:576: \n",
      "Parameters: { \"n_estimators\" } might not be used.\n",
      "\n",
      "  This could be a false alarm, with some parameters getting used by language bindings but\n",
      "  then being mistakenly passed down to XGBoost core, or some parameter actually being used\n",
      "  but getting flagged wrongly here. Please open an issue if you find any such cases.\n",
      "\n",
      "\n",
      "[12:56:29] WARNING: C:/Users/Administrator/workspace/xgboost-win64_release_1.5.0/src/learner.cc:1115: Starting in XGBoost 1.3.0, the default evaluation metric used with the objective 'binary:logistic' was changed from 'error' to 'logloss'. Explicitly set eval_metric if you'd like to restore the old behavior.\n",
      "[0]\ttrain-logloss:0.67542\tvalidate-logloss:0.67834\n",
      "[1]\ttrain-logloss:0.66534\tvalidate-logloss:0.66922\n",
      "[2]\ttrain-logloss:0.65739\tvalidate-logloss:0.66251\n",
      "[3]\ttrain-logloss:0.65094\tvalidate-logloss:0.65721\n",
      "[4]\ttrain-logloss:0.64751\tvalidate-logloss:0.65441\n",
      "[5]\ttrain-logloss:0.64226\tvalidate-logloss:0.65039\n",
      "[6]\ttrain-logloss:0.63833\tvalidate-logloss:0.64800\n",
      "[7]\ttrain-logloss:0.63527\tvalidate-logloss:0.64636\n",
      "[8]\ttrain-logloss:0.63330\tvalidate-logloss:0.64546\n",
      "[9]\ttrain-logloss:0.62995\tvalidate-logloss:0.64333\n"
     ]
    }
   ],
   "source": [
    "params_new = {**params_sk, **search_sk.best_params_}\n",
    "\n",
    "model_final = xgb.train(params_new, dtrain, evals=watchlist, early_stopping_rounds=early_stop, verbose_eval=True)"
   ]
  },
  {
   "cell_type": "code",
   "execution_count": 121,
   "metadata": {},
   "outputs": [],
   "source": [
    "Test=X_test"
   ]
  },
  {
   "cell_type": "code",
   "execution_count": 122,
   "metadata": {},
   "outputs": [],
   "source": [
    "# prediction to testing data\n",
    "from sklearn.metrics import accuracy_score, confusion_matrix, classification_report\n",
    "\n",
    "X_test = xgb.DMatrix(X_test)\n",
    "y_pred = model_final.predict(X_test)"
   ]
  },
  {
   "cell_type": "code",
   "execution_count": 123,
   "metadata": {},
   "outputs": [
    {
     "data": {
      "text/plain": [
       "array([0.5042258 , 0.5856177 , 0.4715971 , ..., 0.59938085, 0.52030426,\n",
       "       0.5696452 ], dtype=float32)"
      ]
     },
     "execution_count": 123,
     "metadata": {},
     "output_type": "execute_result"
    }
   ],
   "source": [
    "y_pred"
   ]
  },
  {
   "cell_type": "code",
   "execution_count": 124,
   "metadata": {},
   "outputs": [
    {
     "name": "stderr",
     "output_type": "stream",
     "text": [
      "C:\\ProgramData\\Anaconda3\\lib\\site-packages\\ipykernel_launcher.py:2: SettingWithCopyWarning: \n",
      "A value is trying to be set on a copy of a slice from a DataFrame.\n",
      "Try using .loc[row_indexer,col_indexer] = value instead\n",
      "\n",
      "See the caveats in the documentation: http://pandas.pydata.org/pandas-docs/stable/indexing.html#indexing-view-versus-copy\n",
      "  \n"
     ]
    },
    {
     "data": {
      "text/html": [
       "<div>\n",
       "<style scoped>\n",
       "    .dataframe tbody tr th:only-of-type {\n",
       "        vertical-align: middle;\n",
       "    }\n",
       "\n",
       "    .dataframe tbody tr th {\n",
       "        vertical-align: top;\n",
       "    }\n",
       "\n",
       "    .dataframe thead th {\n",
       "        text-align: right;\n",
       "    }\n",
       "</style>\n",
       "<table border=\"1\" class=\"dataframe\">\n",
       "  <thead>\n",
       "    <tr style=\"text-align: right;\">\n",
       "      <th></th>\n",
       "      <th>srch_id</th>\n",
       "      <th>prop_key</th>\n",
       "      <th>score</th>\n",
       "    </tr>\n",
       "  </thead>\n",
       "  <tbody>\n",
       "    <tr>\n",
       "      <th>258272</th>\n",
       "      <td>-2147403968</td>\n",
       "      <td>544714</td>\n",
       "      <td>0.635857</td>\n",
       "    </tr>\n",
       "    <tr>\n",
       "      <th>258235</th>\n",
       "      <td>-2147403968</td>\n",
       "      <td>358698</td>\n",
       "      <td>0.620161</td>\n",
       "    </tr>\n",
       "    <tr>\n",
       "      <th>258244</th>\n",
       "      <td>-2147403968</td>\n",
       "      <td>364047</td>\n",
       "      <td>0.620161</td>\n",
       "    </tr>\n",
       "    <tr>\n",
       "      <th>258251</th>\n",
       "      <td>-2147403968</td>\n",
       "      <td>288103</td>\n",
       "      <td>0.620161</td>\n",
       "    </tr>\n",
       "    <tr>\n",
       "      <th>258253</th>\n",
       "      <td>-2147403968</td>\n",
       "      <td>3802344</td>\n",
       "      <td>0.608010</td>\n",
       "    </tr>\n",
       "  </tbody>\n",
       "</table>\n",
       "</div>"
      ],
      "text/plain": [
       "           srch_id  prop_key     score\n",
       "258272 -2147403968    544714  0.635857\n",
       "258235 -2147403968    358698  0.620161\n",
       "258244 -2147403968    364047  0.620161\n",
       "258251 -2147403968    288103  0.620161\n",
       "258253 -2147403968   3802344  0.608010"
      ]
     },
     "execution_count": 124,
     "metadata": {},
     "output_type": "execute_result"
    }
   ],
   "source": [
    "xtest=Test[['srch_id','prop_key']]\n",
    "xtest['score']=y_pred\n",
    "xtest=xtest.sort_values(by=['srch_id','score'], ascending=(True,False))\n",
    "xtest.head()"
   ]
  },
  {
   "cell_type": "code",
   "execution_count": 319,
   "metadata": {},
   "outputs": [],
   "source": [
    "y_pred= np.where(y_pred > 0.5, 1, 0)\n",
    "y_pred=y_pred.tolist()"
   ]
  },
  {
   "cell_type": "code",
   "execution_count": 320,
   "metadata": {},
   "outputs": [
    {
     "name": "stdout",
     "output_type": "stream",
     "text": [
      "Accuracy of XGBoost is : 0.6358920434630214\n"
     ]
    }
   ],
   "source": [
    "acc_xgb= accuracy_score(y_test,y_pred)\n",
    "\n",
    "print(f\"Accuracy of XGBoost is : {acc_xgb}\")"
   ]
  },
  {
   "cell_type": "code",
   "execution_count": 128,
   "metadata": {},
   "outputs": [
    {
     "name": "stdout",
     "output_type": "stream",
     "text": [
      "-----Xgboost Using Datetime Features Only------ \n",
      "---Grid Search model feature importance---\n"
     ]
    },
    {
     "data": {
      "text/plain": [
       "<Figure size 432x288 with 0 Axes>"
      ]
     },
     "metadata": {},
     "output_type": "display_data"
    },
    {
     "data": {
      "image/png": "[encoded data removed]",
      "text/plain": [
       "<Figure size 864x720 with 1 Axes>"
      ]
     },
     "metadata": {
      "needs_background": "light"
     },
     "output_type": "display_data"
    }
   ],
   "source": [
    "print('-----Xgboost Using Datetime Features Only------',\n",
    "      '\\n---Grid Search model feature importance---')\n",
    "importance = model_final.get_fscore()\n",
    "importance_sorted = sorted(importance.items(), key=operator.itemgetter(1))\n",
    "fig1 = feature_importance_plot(importance_sorted, 'feature importance')\n",
    "plt.show()"
   ]
  }
 ],
 "metadata": {
  "kernelspec": {
   "display_name": "Python 3",
   "language": "python",
   "name": "python3"
  },
  "language_info": {
   "codemirror_mode": {
    "name": "ipython",
    "version": 3
   },
   "file_extension": ".py",
   "mimetype": "text/x-python",
   "name": "python",
   "nbconvert_exporter": "python",
   "pygments_lexer": "ipython3",
   "version": "3.7.1"
  }
 },
 "nbformat": 4,
 "nbformat_minor": 2
}
